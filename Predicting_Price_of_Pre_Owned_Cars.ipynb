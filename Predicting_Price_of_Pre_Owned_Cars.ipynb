{
  "nbformat": 4,
  "nbformat_minor": 0,
  "metadata": {
    "colab": {
      "name": "Predicting_Price_of_Pre-Owned_Cars.ipynb",
      "provenance": [],
      "collapsed_sections": [],
      "authorship_tag": "ABX9TyNg97Y+BviMdUZsaIxXWNj1",
      "include_colab_link": true
    },
    "kernelspec": {
      "name": "python3",
      "display_name": "Python 3"
    }
  },
  "cells": [
    {
      "cell_type": "markdown",
      "metadata": {
        "id": "view-in-github",
        "colab_type": "text"
      },
      "source": [
        "<a href=\"https://colab.research.google.com/github/ManishShah120/Py4DSci/blob/master/Predicting_Price_of_Pre_Owned_Cars.ipynb\" target=\"_parent\"><img src=\"https://colab.research.google.com/assets/colab-badge.svg\" alt=\"Open In Colab\"/></a>"
      ]
    },
    {
      "cell_type": "markdown",
      "metadata": {
        "id": "gN_IGkz1QwvI",
        "colab_type": "text"
      },
      "source": [
        "#  Problem Statement:\n",
        "\n",
        "## Storm Motors is an e-commerce company who act as mediators between parties interested in selling and buying pre-owned cars.\n",
        "\n",
        "## For the year 2015-2016, they have recorded data about the seller and car including:-\n",
        "*   Specification details\n",
        "*   Condition of car\n",
        "*   Seller details\n",
        "*   Registration details\n",
        "*   Web advertisement details\n",
        "*   Make and model information\n",
        "*   Price\n",
        "\n",
        "## Storm Motors wishes to develop an algorithm to predict the price of the cars based on various attributes associated with the car."
      ]
    },
    {
      "cell_type": "code",
      "metadata": {
        "id": "CQDzntJPTbNS",
        "colab_type": "code",
        "colab": {}
      },
      "source": [
        ""
      ],
      "execution_count": 0,
      "outputs": []
    }
  ]
}