{
  "nbformat": 4,
  "nbformat_minor": 0,
  "metadata": {
    "colab": {
      "name": "Predicting_Price_of_Pre-Owned_Cars.ipynb",
      "provenance": [],
      "collapsed_sections": [],
      "authorship_tag": "ABX9TyP3/vknJ9/mMYhX5oVfVqU1",
      "include_colab_link": true
    },
    "kernelspec": {
      "name": "python3",
      "display_name": "Python 3"
    }
  },
  "cells": [
    {
      "cell_type": "markdown",
      "metadata": {
        "id": "view-in-github",
        "colab_type": "text"
      },
      "source": [
        "<a href=\"https://colab.research.google.com/github/ManishShah120/Py4DSci/blob/master/Predicting_Price_of_Pre_Owned_Cars.ipynb\" target=\"_parent\"><img src=\"https://colab.research.google.com/assets/colab-badge.svg\" alt=\"Open In Colab\"/></a>"
      ]
    },
    {
      "cell_type": "markdown",
      "metadata": {
        "id": "gN_IGkz1QwvI",
        "colab_type": "text"
      },
      "source": [
        "#  **Problem Statement:**\n",
        "\n",
        "## Storm Motors is an e-commerce company who act as mediators between parties interested in selling and buying pre-owned cars.\n",
        "\n",
        "## For the year 2015-2016, they have recorded data about the seller and car including:-\n",
        "*   Specification details\n",
        "*   Condition of car\n",
        "*   Seller details\n",
        "*   Registration details\n",
        "*   Web advertisement details\n",
        "*   Make and model information\n",
        "*   Price\n",
        "\n",
        "## Storm Motors wishes to **develop an algorithm to predict the price of the cars based on various attributes associated with the car.**"
      ]
    },
    {
      "cell_type": "markdown",
      "metadata": {
        "id": "CQDzntJPTbNS",
        "colab_type": "text"
      },
      "source": [
        "# **Framework:**\n",
        "## Solution Conceptualization\n",
        "*   Identify if data is clean\n",
        "*   Look for missing values\n",
        "*   Identify variables influencing price and look for relationships among  variables\n",
        "> *    Correlation,box plots, scatter plots etc\n",
        "*   Identify outliers\n",
        "> *    Central tendency measures, dispersion measures, box plots, histograms etc.\n",
        "*   Identify if categories with merge frequesncies can be combined.\n",
        "*   Filter data based on logical checks\n",
        ">   *    Price, year of registration, power\n",
        "*   Reduced number of data\n",
        "*   Method identification\n",
        ">   *    Linear regression\n",
        ">   *    Random forest"
      ]
    },
    {
      "cell_type": "code",
      "metadata": {
        "id": "nVnA-ijuYn2n",
        "colab_type": "code",
        "colab": {}
      },
      "source": [
        "import pandas as pd #For reading files as dataframe from csv format\n",
        "import numpy as np #For performing various numerical operations\n",
        "import seaborn as sns #For visulaization "
      ],
      "execution_count": 0,
      "outputs": []
    },
    {
      "cell_type": "code",
      "metadata": {
        "id": "mc3OCTKwciPg",
        "colab_type": "code",
        "outputId": "f8ca9ff1-d030-4810-a946-282f05164e7e",
        "colab": {
          "base_uri": "https://localhost:8080/",
          "height": 34
        }
      },
      "source": [
        "from google.colab import drive # For reading the files from google drive\n",
        "drive.mount('/content/drive')"
      ],
      "execution_count": 2,
      "outputs": [
        {
          "output_type": "stream",
          "text": [
            "Drive already mounted at /content/drive; to attempt to forcibly remount, call drive.mount(\"/content/drive\", force_remount=True).\n"
          ],
          "name": "stdout"
        }
      ]
    },
    {
      "cell_type": "markdown",
      "metadata": {
        "id": "nxjNdjv5cqH9",
        "colab_type": "text"
      },
      "source": [
        "#### Setting dimensions for plot"
      ]
    },
    {
      "cell_type": "code",
      "metadata": {
        "id": "saee5aCFc_Y7",
        "colab_type": "code",
        "colab": {}
      },
      "source": [
        "sns.set(rc={'figure.figsize':(11.7,8.27)}) # set is function from seabormn package\n",
        "## The above line Of Code(LOC) will set the dimensions for all our plots"
      ],
      "execution_count": 0,
      "outputs": []
    },
    {
      "cell_type": "markdown",
      "metadata": {
        "id": "7eKjjAhIdP7r",
        "colab_type": "text"
      },
      "source": [
        "## Reading the CSV file"
      ]
    },
    {
      "cell_type": "code",
      "metadata": {
        "id": "kNSuW395eJPF",
        "colab_type": "code",
        "colab": {}
      },
      "source": [
        "cars_data = pd.read_csv('/content/drive/My Drive/Colab Notebooks/cars_sampled.csv')"
      ],
      "execution_count": 0,
      "outputs": []
    },
    {
      "cell_type": "code",
      "metadata": {
        "id": "PDM6kDf1ecTE",
        "colab_type": "code",
        "outputId": "2a322239-0144-4cee-df06-1f35ff750491",
        "colab": {
          "base_uri": "https://localhost:8080/",
          "height": 609
        }
      },
      "source": [
        "cars_data"
      ],
      "execution_count": 5,
      "outputs": [
        {
          "output_type": "execute_result",
          "data": {
            "text/html": [
              "<div>\n",
              "<style scoped>\n",
              "    .dataframe tbody tr th:only-of-type {\n",
              "        vertical-align: middle;\n",
              "    }\n",
              "\n",
              "    .dataframe tbody tr th {\n",
              "        vertical-align: top;\n",
              "    }\n",
              "\n",
              "    .dataframe thead th {\n",
              "        text-align: right;\n",
              "    }\n",
              "</style>\n",
              "<table border=\"1\" class=\"dataframe\">\n",
              "  <thead>\n",
              "    <tr style=\"text-align: right;\">\n",
              "      <th></th>\n",
              "      <th>dateCrawled</th>\n",
              "      <th>name</th>\n",
              "      <th>seller</th>\n",
              "      <th>offerType</th>\n",
              "      <th>price</th>\n",
              "      <th>abtest</th>\n",
              "      <th>vehicleType</th>\n",
              "      <th>yearOfRegistration</th>\n",
              "      <th>gearbox</th>\n",
              "      <th>powerPS</th>\n",
              "      <th>model</th>\n",
              "      <th>kilometer</th>\n",
              "      <th>monthOfRegistration</th>\n",
              "      <th>fuelType</th>\n",
              "      <th>brand</th>\n",
              "      <th>notRepairedDamage</th>\n",
              "      <th>dateCreated</th>\n",
              "      <th>postalCode</th>\n",
              "      <th>lastSeen</th>\n",
              "    </tr>\n",
              "  </thead>\n",
              "  <tbody>\n",
              "    <tr>\n",
              "      <th>0</th>\n",
              "      <td>30/03/2016 13:51</td>\n",
              "      <td>Zu_verkaufen</td>\n",
              "      <td>private</td>\n",
              "      <td>offer</td>\n",
              "      <td>4450</td>\n",
              "      <td>test</td>\n",
              "      <td>limousine</td>\n",
              "      <td>2003</td>\n",
              "      <td>manual</td>\n",
              "      <td>150</td>\n",
              "      <td>3er</td>\n",
              "      <td>150000</td>\n",
              "      <td>3</td>\n",
              "      <td>diesel</td>\n",
              "      <td>bmw</td>\n",
              "      <td>NaN</td>\n",
              "      <td>30/03/2016 0:00</td>\n",
              "      <td>20257</td>\n",
              "      <td>7/4/2016 4:44</td>\n",
              "    </tr>\n",
              "    <tr>\n",
              "      <th>1</th>\n",
              "      <td>7/3/2016 9:54</td>\n",
              "      <td>Volvo_XC90_2.4D_Summum</td>\n",
              "      <td>private</td>\n",
              "      <td>offer</td>\n",
              "      <td>13299</td>\n",
              "      <td>control</td>\n",
              "      <td>suv</td>\n",
              "      <td>2005</td>\n",
              "      <td>manual</td>\n",
              "      <td>163</td>\n",
              "      <td>xc_reihe</td>\n",
              "      <td>150000</td>\n",
              "      <td>6</td>\n",
              "      <td>diesel</td>\n",
              "      <td>volvo</td>\n",
              "      <td>no</td>\n",
              "      <td>7/3/2016 0:00</td>\n",
              "      <td>88045</td>\n",
              "      <td>26/03/2016 13:17</td>\n",
              "    </tr>\n",
              "    <tr>\n",
              "      <th>2</th>\n",
              "      <td>1/4/2016 0:57</td>\n",
              "      <td>Volkswagen_Touran</td>\n",
              "      <td>private</td>\n",
              "      <td>offer</td>\n",
              "      <td>3200</td>\n",
              "      <td>test</td>\n",
              "      <td>bus</td>\n",
              "      <td>2003</td>\n",
              "      <td>manual</td>\n",
              "      <td>101</td>\n",
              "      <td>touran</td>\n",
              "      <td>150000</td>\n",
              "      <td>11</td>\n",
              "      <td>diesel</td>\n",
              "      <td>volkswagen</td>\n",
              "      <td>NaN</td>\n",
              "      <td>31/03/2016 0:00</td>\n",
              "      <td>27449</td>\n",
              "      <td>1/4/2016 8:40</td>\n",
              "    </tr>\n",
              "    <tr>\n",
              "      <th>3</th>\n",
              "      <td>19/03/2016 17:50</td>\n",
              "      <td>Seat_Ibiza_1.4_16V_Reference</td>\n",
              "      <td>private</td>\n",
              "      <td>offer</td>\n",
              "      <td>4500</td>\n",
              "      <td>control</td>\n",
              "      <td>small car</td>\n",
              "      <td>2006</td>\n",
              "      <td>manual</td>\n",
              "      <td>86</td>\n",
              "      <td>ibiza</td>\n",
              "      <td>60000</td>\n",
              "      <td>12</td>\n",
              "      <td>petrol</td>\n",
              "      <td>seat</td>\n",
              "      <td>no</td>\n",
              "      <td>19/03/2016 0:00</td>\n",
              "      <td>34537</td>\n",
              "      <td>7/4/2016 4:44</td>\n",
              "    </tr>\n",
              "    <tr>\n",
              "      <th>4</th>\n",
              "      <td>16/03/2016 14:51</td>\n",
              "      <td>Volvo_XC90_D5_Aut._RDesign_R_Design_AWD_GSHD_S...</td>\n",
              "      <td>private</td>\n",
              "      <td>offer</td>\n",
              "      <td>18750</td>\n",
              "      <td>test</td>\n",
              "      <td>suv</td>\n",
              "      <td>2008</td>\n",
              "      <td>automatic</td>\n",
              "      <td>185</td>\n",
              "      <td>xc_reihe</td>\n",
              "      <td>150000</td>\n",
              "      <td>11</td>\n",
              "      <td>diesel</td>\n",
              "      <td>volvo</td>\n",
              "      <td>no</td>\n",
              "      <td>16/03/2016 0:00</td>\n",
              "      <td>55270</td>\n",
              "      <td>1/4/2016 23:18</td>\n",
              "    </tr>\n",
              "    <tr>\n",
              "      <th>...</th>\n",
              "      <td>...</td>\n",
              "      <td>...</td>\n",
              "      <td>...</td>\n",
              "      <td>...</td>\n",
              "      <td>...</td>\n",
              "      <td>...</td>\n",
              "      <td>...</td>\n",
              "      <td>...</td>\n",
              "      <td>...</td>\n",
              "      <td>...</td>\n",
              "      <td>...</td>\n",
              "      <td>...</td>\n",
              "      <td>...</td>\n",
              "      <td>...</td>\n",
              "      <td>...</td>\n",
              "      <td>...</td>\n",
              "      <td>...</td>\n",
              "      <td>...</td>\n",
              "      <td>...</td>\n",
              "    </tr>\n",
              "    <tr>\n",
              "      <th>49996</th>\n",
              "      <td>3/4/2016 15:48</td>\n",
              "      <td>Suche_VW_T5_Multivan</td>\n",
              "      <td>private</td>\n",
              "      <td>request</td>\n",
              "      <td>0</td>\n",
              "      <td>test</td>\n",
              "      <td>bus</td>\n",
              "      <td>2005</td>\n",
              "      <td>NaN</td>\n",
              "      <td>0</td>\n",
              "      <td>transporter</td>\n",
              "      <td>150000</td>\n",
              "      <td>0</td>\n",
              "      <td>NaN</td>\n",
              "      <td>volkswagen</td>\n",
              "      <td>NaN</td>\n",
              "      <td>3/4/2016 0:00</td>\n",
              "      <td>29690</td>\n",
              "      <td>5/4/2016 15:16</td>\n",
              "    </tr>\n",
              "    <tr>\n",
              "      <th>49997</th>\n",
              "      <td>27/03/2016 14:55</td>\n",
              "      <td>Suche_einen_originalen_VW_Golf_2_Fire_and_Ice_G60</td>\n",
              "      <td>private</td>\n",
              "      <td>request</td>\n",
              "      <td>19999</td>\n",
              "      <td>control</td>\n",
              "      <td>NaN</td>\n",
              "      <td>1990</td>\n",
              "      <td>NaN</td>\n",
              "      <td>0</td>\n",
              "      <td>golf</td>\n",
              "      <td>5000</td>\n",
              "      <td>0</td>\n",
              "      <td>NaN</td>\n",
              "      <td>volkswagen</td>\n",
              "      <td>NaN</td>\n",
              "      <td>27/03/2016 0:00</td>\n",
              "      <td>50181</td>\n",
              "      <td>7/4/2016 11:45</td>\n",
              "    </tr>\n",
              "    <tr>\n",
              "      <th>49998</th>\n",
              "      <td>14/03/2016 18:51</td>\n",
              "      <td>[SUCHE]_BMW_e46_Coupe_330ci_M_Paket_Facelift__...</td>\n",
              "      <td>private</td>\n",
              "      <td>request</td>\n",
              "      <td>0</td>\n",
              "      <td>test</td>\n",
              "      <td>coupe</td>\n",
              "      <td>2004</td>\n",
              "      <td>manual</td>\n",
              "      <td>0</td>\n",
              "      <td>3er</td>\n",
              "      <td>150000</td>\n",
              "      <td>1</td>\n",
              "      <td>petrol</td>\n",
              "      <td>bmw</td>\n",
              "      <td>no</td>\n",
              "      <td>14/03/2016 0:00</td>\n",
              "      <td>86956</td>\n",
              "      <td>25/03/2016 6:17</td>\n",
              "    </tr>\n",
              "    <tr>\n",
              "      <th>49999</th>\n",
              "      <td>15/03/2016 18:06</td>\n",
              "      <td>Verkaufe_mehrere_Fahrzeuge_zum_Verschrotten</td>\n",
              "      <td>commercial</td>\n",
              "      <td>offer</td>\n",
              "      <td>100</td>\n",
              "      <td>control</td>\n",
              "      <td>station wagon</td>\n",
              "      <td>2000</td>\n",
              "      <td>manual</td>\n",
              "      <td>0</td>\n",
              "      <td>megane</td>\n",
              "      <td>150000</td>\n",
              "      <td>8</td>\n",
              "      <td>petrol</td>\n",
              "      <td>renault</td>\n",
              "      <td>NaN</td>\n",
              "      <td>15/03/2016 0:00</td>\n",
              "      <td>65232</td>\n",
              "      <td>6/4/2016 17:15</td>\n",
              "    </tr>\n",
              "    <tr>\n",
              "      <th>50000</th>\n",
              "      <td>22/03/2016 9:54</td>\n",
              "      <td>Chevrolet_Matiz_1.Hd_TÜV11/2017</td>\n",
              "      <td>commercial</td>\n",
              "      <td>offer</td>\n",
              "      <td>1100</td>\n",
              "      <td>test</td>\n",
              "      <td>small car</td>\n",
              "      <td>2006</td>\n",
              "      <td>manual</td>\n",
              "      <td>38</td>\n",
              "      <td>matiz</td>\n",
              "      <td>150000</td>\n",
              "      <td>10</td>\n",
              "      <td>petrol</td>\n",
              "      <td>chevrolet</td>\n",
              "      <td>no</td>\n",
              "      <td>22/03/2016 0:00</td>\n",
              "      <td>7973</td>\n",
              "      <td>5/4/2016 21:15</td>\n",
              "    </tr>\n",
              "  </tbody>\n",
              "</table>\n",
              "<p>50001 rows × 19 columns</p>\n",
              "</div>"
            ],
            "text/plain": [
              "            dateCrawled  ...          lastSeen\n",
              "0      30/03/2016 13:51  ...     7/4/2016 4:44\n",
              "1         7/3/2016 9:54  ...  26/03/2016 13:17\n",
              "2         1/4/2016 0:57  ...     1/4/2016 8:40\n",
              "3      19/03/2016 17:50  ...     7/4/2016 4:44\n",
              "4      16/03/2016 14:51  ...    1/4/2016 23:18\n",
              "...                 ...  ...               ...\n",
              "49996    3/4/2016 15:48  ...    5/4/2016 15:16\n",
              "49997  27/03/2016 14:55  ...    7/4/2016 11:45\n",
              "49998  14/03/2016 18:51  ...   25/03/2016 6:17\n",
              "49999  15/03/2016 18:06  ...    6/4/2016 17:15\n",
              "50000   22/03/2016 9:54  ...    5/4/2016 21:15\n",
              "\n",
              "[50001 rows x 19 columns]"
            ]
          },
          "metadata": {
            "tags": []
          },
          "execution_count": 5
        }
      ]
    },
    {
      "cell_type": "markdown",
      "metadata": {
        "id": "mN3_G6gKep_5",
        "colab_type": "text"
      },
      "source": [
        "### Creating copy"
      ]
    },
    {
      "cell_type": "code",
      "metadata": {
        "id": "iG_3_rSue3U7",
        "colab_type": "code",
        "colab": {}
      },
      "source": [
        "cars = cars_data.copy() # This is known as deep copy i.e., any changes  made in the cars will not replect in cars_data"
      ],
      "execution_count": 0,
      "outputs": []
    },
    {
      "cell_type": "markdown",
      "metadata": {
        "id": "ItAcnI6Se63V",
        "colab_type": "text"
      },
      "source": [
        "### Structure of the dataset"
      ]
    },
    {
      "cell_type": "code",
      "metadata": {
        "id": "5T67UydofWjA",
        "colab_type": "code",
        "outputId": "11c48f64-a13a-4580-ffa7-c7cb6f651b8d",
        "colab": {
          "base_uri": "https://localhost:8080/",
          "height": 425
        }
      },
      "source": [
        "cars.info()"
      ],
      "execution_count": 7,
      "outputs": [
        {
          "output_type": "stream",
          "text": [
            "<class 'pandas.core.frame.DataFrame'>\n",
            "RangeIndex: 50001 entries, 0 to 50000\n",
            "Data columns (total 19 columns):\n",
            "dateCrawled            50001 non-null object\n",
            "name                   50001 non-null object\n",
            "seller                 50001 non-null object\n",
            "offerType              50001 non-null object\n",
            "price                  50001 non-null int64\n",
            "abtest                 50001 non-null object\n",
            "vehicleType            44813 non-null object\n",
            "yearOfRegistration     50001 non-null int64\n",
            "gearbox                47177 non-null object\n",
            "powerPS                50001 non-null int64\n",
            "model                  47243 non-null object\n",
            "kilometer              50001 non-null int64\n",
            "monthOfRegistration    50001 non-null int64\n",
            "fuelType               45498 non-null object\n",
            "brand                  50001 non-null object\n",
            "notRepairedDamage      40285 non-null object\n",
            "dateCreated            50001 non-null object\n",
            "postalCode             50001 non-null int64\n",
            "lastSeen               50001 non-null object\n",
            "dtypes: int64(6), object(13)\n",
            "memory usage: 7.2+ MB\n"
          ],
          "name": "stdout"
        }
      ]
    },
    {
      "cell_type": "markdown",
      "metadata": {
        "id": "biwwe1lgfjdD",
        "colab_type": "text"
      },
      "source": [
        "#### We see that there are 6 columns which are of int64 datatype and 13 columns which are of object datatype"
      ]
    },
    {
      "cell_type": "markdown",
      "metadata": {
        "id": "wzQW233OgGqR",
        "colab_type": "text"
      },
      "source": [
        "# Summarizing data"
      ]
    },
    {
      "cell_type": "code",
      "metadata": {
        "id": "ZqpUPOQUgTHT",
        "colab_type": "code",
        "outputId": "b53f9b87-7b93-4215-dcb0-40014de17be5",
        "colab": {
          "base_uri": "https://localhost:8080/",
          "height": 297
        }
      },
      "source": [
        "cars.describe()"
      ],
      "execution_count": 8,
      "outputs": [
        {
          "output_type": "execute_result",
          "data": {
            "text/html": [
              "<div>\n",
              "<style scoped>\n",
              "    .dataframe tbody tr th:only-of-type {\n",
              "        vertical-align: middle;\n",
              "    }\n",
              "\n",
              "    .dataframe tbody tr th {\n",
              "        vertical-align: top;\n",
              "    }\n",
              "\n",
              "    .dataframe thead th {\n",
              "        text-align: right;\n",
              "    }\n",
              "</style>\n",
              "<table border=\"1\" class=\"dataframe\">\n",
              "  <thead>\n",
              "    <tr style=\"text-align: right;\">\n",
              "      <th></th>\n",
              "      <th>price</th>\n",
              "      <th>yearOfRegistration</th>\n",
              "      <th>powerPS</th>\n",
              "      <th>kilometer</th>\n",
              "      <th>monthOfRegistration</th>\n",
              "      <th>postalCode</th>\n",
              "    </tr>\n",
              "  </thead>\n",
              "  <tbody>\n",
              "    <tr>\n",
              "      <th>count</th>\n",
              "      <td>5.000100e+04</td>\n",
              "      <td>50001.000000</td>\n",
              "      <td>50001.000000</td>\n",
              "      <td>50001.000000</td>\n",
              "      <td>50001.000000</td>\n",
              "      <td>50001.000000</td>\n",
              "    </tr>\n",
              "    <tr>\n",
              "      <th>mean</th>\n",
              "      <td>6.559865e+03</td>\n",
              "      <td>2005.544229</td>\n",
              "      <td>116.496130</td>\n",
              "      <td>125613.687726</td>\n",
              "      <td>5.743725</td>\n",
              "      <td>50775.216696</td>\n",
              "    </tr>\n",
              "    <tr>\n",
              "      <th>std</th>\n",
              "      <td>8.581847e+04</td>\n",
              "      <td>122.991832</td>\n",
              "      <td>230.567709</td>\n",
              "      <td>40205.234483</td>\n",
              "      <td>3.711345</td>\n",
              "      <td>25743.701933</td>\n",
              "    </tr>\n",
              "    <tr>\n",
              "      <th>min</th>\n",
              "      <td>0.000000e+00</td>\n",
              "      <td>1000.000000</td>\n",
              "      <td>0.000000</td>\n",
              "      <td>5000.000000</td>\n",
              "      <td>0.000000</td>\n",
              "      <td>1067.000000</td>\n",
              "    </tr>\n",
              "    <tr>\n",
              "      <th>25%</th>\n",
              "      <td>1.150000e+03</td>\n",
              "      <td>1999.000000</td>\n",
              "      <td>69.000000</td>\n",
              "      <td>125000.000000</td>\n",
              "      <td>3.000000</td>\n",
              "      <td>30559.000000</td>\n",
              "    </tr>\n",
              "    <tr>\n",
              "      <th>50%</th>\n",
              "      <td>2.950000e+03</td>\n",
              "      <td>2003.000000</td>\n",
              "      <td>105.000000</td>\n",
              "      <td>150000.000000</td>\n",
              "      <td>6.000000</td>\n",
              "      <td>49504.000000</td>\n",
              "    </tr>\n",
              "    <tr>\n",
              "      <th>75%</th>\n",
              "      <td>7.190000e+03</td>\n",
              "      <td>2008.000000</td>\n",
              "      <td>150.000000</td>\n",
              "      <td>150000.000000</td>\n",
              "      <td>9.000000</td>\n",
              "      <td>71404.000000</td>\n",
              "    </tr>\n",
              "    <tr>\n",
              "      <th>max</th>\n",
              "      <td>1.234568e+07</td>\n",
              "      <td>9999.000000</td>\n",
              "      <td>19312.000000</td>\n",
              "      <td>150000.000000</td>\n",
              "      <td>12.000000</td>\n",
              "      <td>99998.000000</td>\n",
              "    </tr>\n",
              "  </tbody>\n",
              "</table>\n",
              "</div>"
            ],
            "text/plain": [
              "              price  yearOfRegistration  ...  monthOfRegistration    postalCode\n",
              "count  5.000100e+04        50001.000000  ...         50001.000000  50001.000000\n",
              "mean   6.559865e+03         2005.544229  ...             5.743725  50775.216696\n",
              "std    8.581847e+04          122.991832  ...             3.711345  25743.701933\n",
              "min    0.000000e+00         1000.000000  ...             0.000000   1067.000000\n",
              "25%    1.150000e+03         1999.000000  ...             3.000000  30559.000000\n",
              "50%    2.950000e+03         2003.000000  ...             6.000000  49504.000000\n",
              "75%    7.190000e+03         2008.000000  ...             9.000000  71404.000000\n",
              "max    1.234568e+07         9999.000000  ...            12.000000  99998.000000\n",
              "\n",
              "[8 rows x 6 columns]"
            ]
          },
          "metadata": {
            "tags": []
          },
          "execution_count": 8
        }
      ]
    },
    {
      "cell_type": "markdown",
      "metadata": {
        "id": "gtMr3IKXgVyL",
        "colab_type": "text"
      },
      "source": [
        "#### How to get rid of the scientific notation?"
      ]
    },
    {
      "cell_type": "code",
      "metadata": {
        "id": "Qu5vy8CFglsG",
        "colab_type": "code",
        "colab": {}
      },
      "source": [
        "pd.set_option('display.float_format', lambda x: '%.3f' % x) # Lambda function"
      ],
      "execution_count": 0,
      "outputs": []
    },
    {
      "cell_type": "code",
      "metadata": {
        "id": "QaOg9EvHg4-D",
        "colab_type": "code",
        "outputId": "fb1a54b6-5a45-40f7-b1b5-79a3e2ab693e",
        "colab": {
          "base_uri": "https://localhost:8080/",
          "height": 297
        }
      },
      "source": [
        "cars.describe()"
      ],
      "execution_count": 10,
      "outputs": [
        {
          "output_type": "execute_result",
          "data": {
            "text/html": [
              "<div>\n",
              "<style scoped>\n",
              "    .dataframe tbody tr th:only-of-type {\n",
              "        vertical-align: middle;\n",
              "    }\n",
              "\n",
              "    .dataframe tbody tr th {\n",
              "        vertical-align: top;\n",
              "    }\n",
              "\n",
              "    .dataframe thead th {\n",
              "        text-align: right;\n",
              "    }\n",
              "</style>\n",
              "<table border=\"1\" class=\"dataframe\">\n",
              "  <thead>\n",
              "    <tr style=\"text-align: right;\">\n",
              "      <th></th>\n",
              "      <th>price</th>\n",
              "      <th>yearOfRegistration</th>\n",
              "      <th>powerPS</th>\n",
              "      <th>kilometer</th>\n",
              "      <th>monthOfRegistration</th>\n",
              "      <th>postalCode</th>\n",
              "    </tr>\n",
              "  </thead>\n",
              "  <tbody>\n",
              "    <tr>\n",
              "      <th>count</th>\n",
              "      <td>50001.000</td>\n",
              "      <td>50001.000</td>\n",
              "      <td>50001.000</td>\n",
              "      <td>50001.000</td>\n",
              "      <td>50001.000</td>\n",
              "      <td>50001.000</td>\n",
              "    </tr>\n",
              "    <tr>\n",
              "      <th>mean</th>\n",
              "      <td>6559.865</td>\n",
              "      <td>2005.544</td>\n",
              "      <td>116.496</td>\n",
              "      <td>125613.688</td>\n",
              "      <td>5.744</td>\n",
              "      <td>50775.217</td>\n",
              "    </tr>\n",
              "    <tr>\n",
              "      <th>std</th>\n",
              "      <td>85818.470</td>\n",
              "      <td>122.992</td>\n",
              "      <td>230.568</td>\n",
              "      <td>40205.234</td>\n",
              "      <td>3.711</td>\n",
              "      <td>25743.702</td>\n",
              "    </tr>\n",
              "    <tr>\n",
              "      <th>min</th>\n",
              "      <td>0.000</td>\n",
              "      <td>1000.000</td>\n",
              "      <td>0.000</td>\n",
              "      <td>5000.000</td>\n",
              "      <td>0.000</td>\n",
              "      <td>1067.000</td>\n",
              "    </tr>\n",
              "    <tr>\n",
              "      <th>25%</th>\n",
              "      <td>1150.000</td>\n",
              "      <td>1999.000</td>\n",
              "      <td>69.000</td>\n",
              "      <td>125000.000</td>\n",
              "      <td>3.000</td>\n",
              "      <td>30559.000</td>\n",
              "    </tr>\n",
              "    <tr>\n",
              "      <th>50%</th>\n",
              "      <td>2950.000</td>\n",
              "      <td>2003.000</td>\n",
              "      <td>105.000</td>\n",
              "      <td>150000.000</td>\n",
              "      <td>6.000</td>\n",
              "      <td>49504.000</td>\n",
              "    </tr>\n",
              "    <tr>\n",
              "      <th>75%</th>\n",
              "      <td>7190.000</td>\n",
              "      <td>2008.000</td>\n",
              "      <td>150.000</td>\n",
              "      <td>150000.000</td>\n",
              "      <td>9.000</td>\n",
              "      <td>71404.000</td>\n",
              "    </tr>\n",
              "    <tr>\n",
              "      <th>max</th>\n",
              "      <td>12345678.000</td>\n",
              "      <td>9999.000</td>\n",
              "      <td>19312.000</td>\n",
              "      <td>150000.000</td>\n",
              "      <td>12.000</td>\n",
              "      <td>99998.000</td>\n",
              "    </tr>\n",
              "  </tbody>\n",
              "</table>\n",
              "</div>"
            ],
            "text/plain": [
              "             price  yearOfRegistration  ...  monthOfRegistration  postalCode\n",
              "count    50001.000           50001.000  ...            50001.000   50001.000\n",
              "mean      6559.865            2005.544  ...                5.744   50775.217\n",
              "std      85818.470             122.992  ...                3.711   25743.702\n",
              "min          0.000            1000.000  ...                0.000    1067.000\n",
              "25%       1150.000            1999.000  ...                3.000   30559.000\n",
              "50%       2950.000            2003.000  ...                6.000   49504.000\n",
              "75%       7190.000            2008.000  ...                9.000   71404.000\n",
              "max   12345678.000            9999.000  ...               12.000   99998.000\n",
              "\n",
              "[8 rows x 6 columns]"
            ]
          },
          "metadata": {
            "tags": []
          },
          "execution_count": 10
        }
      ]
    },
    {
      "cell_type": "markdown",
      "metadata": {
        "id": "jxuar7xgg-kD",
        "colab_type": "text"
      },
      "source": [
        "#### Not all the columns are visible so??"
      ]
    },
    {
      "cell_type": "code",
      "metadata": {
        "id": "ogih3X5PhPZ-",
        "colab_type": "code",
        "outputId": "aa7857dc-2e48-4b0b-ecfa-dbdc487a55dd",
        "colab": {
          "base_uri": "https://localhost:8080/",
          "height": 297
        }
      },
      "source": [
        "# To display maximum set of columns\n",
        "pd.set_option('display.max_columns', 500)\n",
        "cars.describe()"
      ],
      "execution_count": 11,
      "outputs": [
        {
          "output_type": "execute_result",
          "data": {
            "text/html": [
              "<div>\n",
              "<style scoped>\n",
              "    .dataframe tbody tr th:only-of-type {\n",
              "        vertical-align: middle;\n",
              "    }\n",
              "\n",
              "    .dataframe tbody tr th {\n",
              "        vertical-align: top;\n",
              "    }\n",
              "\n",
              "    .dataframe thead th {\n",
              "        text-align: right;\n",
              "    }\n",
              "</style>\n",
              "<table border=\"1\" class=\"dataframe\">\n",
              "  <thead>\n",
              "    <tr style=\"text-align: right;\">\n",
              "      <th></th>\n",
              "      <th>price</th>\n",
              "      <th>yearOfRegistration</th>\n",
              "      <th>powerPS</th>\n",
              "      <th>kilometer</th>\n",
              "      <th>monthOfRegistration</th>\n",
              "      <th>postalCode</th>\n",
              "    </tr>\n",
              "  </thead>\n",
              "  <tbody>\n",
              "    <tr>\n",
              "      <th>count</th>\n",
              "      <td>50001.000</td>\n",
              "      <td>50001.000</td>\n",
              "      <td>50001.000</td>\n",
              "      <td>50001.000</td>\n",
              "      <td>50001.000</td>\n",
              "      <td>50001.000</td>\n",
              "    </tr>\n",
              "    <tr>\n",
              "      <th>mean</th>\n",
              "      <td>6559.865</td>\n",
              "      <td>2005.544</td>\n",
              "      <td>116.496</td>\n",
              "      <td>125613.688</td>\n",
              "      <td>5.744</td>\n",
              "      <td>50775.217</td>\n",
              "    </tr>\n",
              "    <tr>\n",
              "      <th>std</th>\n",
              "      <td>85818.470</td>\n",
              "      <td>122.992</td>\n",
              "      <td>230.568</td>\n",
              "      <td>40205.234</td>\n",
              "      <td>3.711</td>\n",
              "      <td>25743.702</td>\n",
              "    </tr>\n",
              "    <tr>\n",
              "      <th>min</th>\n",
              "      <td>0.000</td>\n",
              "      <td>1000.000</td>\n",
              "      <td>0.000</td>\n",
              "      <td>5000.000</td>\n",
              "      <td>0.000</td>\n",
              "      <td>1067.000</td>\n",
              "    </tr>\n",
              "    <tr>\n",
              "      <th>25%</th>\n",
              "      <td>1150.000</td>\n",
              "      <td>1999.000</td>\n",
              "      <td>69.000</td>\n",
              "      <td>125000.000</td>\n",
              "      <td>3.000</td>\n",
              "      <td>30559.000</td>\n",
              "    </tr>\n",
              "    <tr>\n",
              "      <th>50%</th>\n",
              "      <td>2950.000</td>\n",
              "      <td>2003.000</td>\n",
              "      <td>105.000</td>\n",
              "      <td>150000.000</td>\n",
              "      <td>6.000</td>\n",
              "      <td>49504.000</td>\n",
              "    </tr>\n",
              "    <tr>\n",
              "      <th>75%</th>\n",
              "      <td>7190.000</td>\n",
              "      <td>2008.000</td>\n",
              "      <td>150.000</td>\n",
              "      <td>150000.000</td>\n",
              "      <td>9.000</td>\n",
              "      <td>71404.000</td>\n",
              "    </tr>\n",
              "    <tr>\n",
              "      <th>max</th>\n",
              "      <td>12345678.000</td>\n",
              "      <td>9999.000</td>\n",
              "      <td>19312.000</td>\n",
              "      <td>150000.000</td>\n",
              "      <td>12.000</td>\n",
              "      <td>99998.000</td>\n",
              "    </tr>\n",
              "  </tbody>\n",
              "</table>\n",
              "</div>"
            ],
            "text/plain": [
              "             price  yearOfRegistration   powerPS  kilometer  \\\n",
              "count    50001.000           50001.000 50001.000  50001.000   \n",
              "mean      6559.865            2005.544   116.496 125613.688   \n",
              "std      85818.470             122.992   230.568  40205.234   \n",
              "min          0.000            1000.000     0.000   5000.000   \n",
              "25%       1150.000            1999.000    69.000 125000.000   \n",
              "50%       2950.000            2003.000   105.000 150000.000   \n",
              "75%       7190.000            2008.000   150.000 150000.000   \n",
              "max   12345678.000            9999.000 19312.000 150000.000   \n",
              "\n",
              "       monthOfRegistration  postalCode  \n",
              "count            50001.000   50001.000  \n",
              "mean                 5.744   50775.217  \n",
              "std                  3.711   25743.702  \n",
              "min                  0.000    1067.000  \n",
              "25%                  3.000   30559.000  \n",
              "50%                  6.000   49504.000  \n",
              "75%                  9.000   71404.000  \n",
              "max                 12.000   99998.000  "
            ]
          },
          "metadata": {
            "tags": []
          },
          "execution_count": 11
        }
      ]
    },
    {
      "cell_type": "code",
      "metadata": {
        "id": "SKv-FvbfigxD",
        "colab_type": "code",
        "outputId": "6f451323-a4f8-4fed-818b-987becfa198b",
        "colab": {
          "base_uri": "https://localhost:8080/",
          "height": 425
        }
      },
      "source": [
        "cars.info()"
      ],
      "execution_count": 12,
      "outputs": [
        {
          "output_type": "stream",
          "text": [
            "<class 'pandas.core.frame.DataFrame'>\n",
            "RangeIndex: 50001 entries, 0 to 50000\n",
            "Data columns (total 19 columns):\n",
            "dateCrawled            50001 non-null object\n",
            "name                   50001 non-null object\n",
            "seller                 50001 non-null object\n",
            "offerType              50001 non-null object\n",
            "price                  50001 non-null int64\n",
            "abtest                 50001 non-null object\n",
            "vehicleType            44813 non-null object\n",
            "yearOfRegistration     50001 non-null int64\n",
            "gearbox                47177 non-null object\n",
            "powerPS                50001 non-null int64\n",
            "model                  47243 non-null object\n",
            "kilometer              50001 non-null int64\n",
            "monthOfRegistration    50001 non-null int64\n",
            "fuelType               45498 non-null object\n",
            "brand                  50001 non-null object\n",
            "notRepairedDamage      40285 non-null object\n",
            "dateCreated            50001 non-null object\n",
            "postalCode             50001 non-null int64\n",
            "lastSeen               50001 non-null object\n",
            "dtypes: int64(6), object(13)\n",
            "memory usage: 7.2+ MB\n"
          ],
          "name": "stdout"
        }
      ]
    },
    {
      "cell_type": "markdown",
      "metadata": {
        "id": "S5K8YKP1h32m",
        "colab_type": "text"
      },
      "source": [
        "#### Lets **DROP** Unwanted Columns"
      ]
    },
    {
      "cell_type": "code",
      "metadata": {
        "id": "JcVvoZNCiWKj",
        "colab_type": "code",
        "colab": {}
      },
      "source": [
        "# We are going to drop all these columns present in the list \"col\"\n",
        "col = ['name','dateCrawled','dateCreated','postalCode','lastSeen']\n",
        "cars = cars.drop(columns=col, axis=1)"
      ],
      "execution_count": 0,
      "outputs": []
    },
    {
      "cell_type": "code",
      "metadata": {
        "id": "gTkdmHx_jGAk",
        "colab_type": "code",
        "outputId": "be614b77-0a2e-4d0b-9b2c-6ed5bcff4c26",
        "colab": {
          "base_uri": "https://localhost:8080/",
          "height": 340
        }
      },
      "source": [
        "cars.info()"
      ],
      "execution_count": 14,
      "outputs": [
        {
          "output_type": "stream",
          "text": [
            "<class 'pandas.core.frame.DataFrame'>\n",
            "RangeIndex: 50001 entries, 0 to 50000\n",
            "Data columns (total 14 columns):\n",
            "seller                 50001 non-null object\n",
            "offerType              50001 non-null object\n",
            "price                  50001 non-null int64\n",
            "abtest                 50001 non-null object\n",
            "vehicleType            44813 non-null object\n",
            "yearOfRegistration     50001 non-null int64\n",
            "gearbox                47177 non-null object\n",
            "powerPS                50001 non-null int64\n",
            "model                  47243 non-null object\n",
            "kilometer              50001 non-null int64\n",
            "monthOfRegistration    50001 non-null int64\n",
            "fuelType               45498 non-null object\n",
            "brand                  50001 non-null object\n",
            "notRepairedDamage      40285 non-null object\n",
            "dtypes: int64(5), object(9)\n",
            "memory usage: 5.3+ MB\n"
          ],
          "name": "stdout"
        }
      ]
    },
    {
      "cell_type": "markdown",
      "metadata": {
        "id": "yi2Fxve0jc3Z",
        "colab_type": "text"
      },
      "source": [
        "# Lets remove the duplicate records and keeping the first record and deleting the rest of duplicate records of it"
      ]
    },
    {
      "cell_type": "code",
      "metadata": {
        "id": "jiP4DO0Yk_xQ",
        "colab_type": "code",
        "colab": {}
      },
      "source": [
        "cars.drop_duplicates(keep='first',inplace=True)"
      ],
      "execution_count": 0,
      "outputs": []
    },
    {
      "cell_type": "code",
      "metadata": {
        "id": "Y1vK6PoTnK0K",
        "colab_type": "code",
        "outputId": "e0c9352b-feca-4e50-9802-20b5f86e0607",
        "colab": {
          "base_uri": "https://localhost:8080/",
          "height": 340
        }
      },
      "source": [
        "cars.info()"
      ],
      "execution_count": 16,
      "outputs": [
        {
          "output_type": "stream",
          "text": [
            "<class 'pandas.core.frame.DataFrame'>\n",
            "Int64Index: 49531 entries, 0 to 50000\n",
            "Data columns (total 14 columns):\n",
            "seller                 49531 non-null object\n",
            "offerType              49531 non-null object\n",
            "price                  49531 non-null int64\n",
            "abtest                 49531 non-null object\n",
            "vehicleType            44379 non-null object\n",
            "yearOfRegistration     49531 non-null int64\n",
            "gearbox                46766 non-null object\n",
            "powerPS                49531 non-null int64\n",
            "model                  46801 non-null object\n",
            "kilometer              49531 non-null int64\n",
            "monthOfRegistration    49531 non-null int64\n",
            "fuelType               45064 non-null object\n",
            "brand                  49531 non-null object\n",
            "notRepairedDamage      39891 non-null object\n",
            "dtypes: int64(5), object(9)\n",
            "memory usage: 5.7+ MB\n"
          ],
          "name": "stdout"
        }
      ]
    },
    {
      "cell_type": "markdown",
      "metadata": {
        "id": "CNrOl_ZnnM4t",
        "colab_type": "text"
      },
      "source": [
        "# **Data Cleaning**"
      ]
    },
    {
      "cell_type": "code",
      "metadata": {
        "id": "CDBq5M2inZKe",
        "colab_type": "code",
        "outputId": "2b23c4b2-3f76-47a0-93d2-9f30e029f44f",
        "colab": {
          "base_uri": "https://localhost:8080/",
          "height": 272
        }
      },
      "source": [
        "# Lets compute the number of missing values in each columns\n",
        "cars.isnull().sum()"
      ],
      "execution_count": 17,
      "outputs": [
        {
          "output_type": "execute_result",
          "data": {
            "text/plain": [
              "seller                    0\n",
              "offerType                 0\n",
              "price                     0\n",
              "abtest                    0\n",
              "vehicleType            5152\n",
              "yearOfRegistration        0\n",
              "gearbox                2765\n",
              "powerPS                   0\n",
              "model                  2730\n",
              "kilometer                 0\n",
              "monthOfRegistration       0\n",
              "fuelType               4467\n",
              "brand                     0\n",
              "notRepairedDamage      9640\n",
              "dtype: int64"
            ]
          },
          "metadata": {
            "tags": []
          },
          "execution_count": 17
        }
      ]
    },
    {
      "cell_type": "markdown",
      "metadata": {
        "id": "s-3KQOYQnh6u",
        "colab_type": "text"
      },
      "source": [
        "#### The numbers we see other than zeroes are the number of missing datas"
      ]
    },
    {
      "cell_type": "markdown",
      "metadata": {
        "id": "F4OZ4KAFoZjn",
        "colab_type": "text"
      },
      "source": [
        "### Lets take **Variable** :- **yearOfRegistration** first\n",
        "#### Sorting that based on the years"
      ]
    },
    {
      "cell_type": "code",
      "metadata": {
        "id": "itMRWAYgonuC",
        "colab_type": "code",
        "colab": {}
      },
      "source": [
        "yearwise_count=cars['yearOfRegistration'].value_counts().sort_index()"
      ],
      "execution_count": 0,
      "outputs": []
    },
    {
      "cell_type": "code",
      "metadata": {
        "id": "zfvuUUYcpvPv",
        "colab_type": "code",
        "outputId": "9bdc8cd0-2399-442c-85e6-a0831960a3fc",
        "colab": {
          "base_uri": "https://localhost:8080/",
          "height": 221
        }
      },
      "source": [
        "yearwise_count"
      ],
      "execution_count": 19,
      "outputs": [
        {
          "output_type": "execute_result",
          "data": {
            "text/plain": [
              "1000     6\n",
              "1255     1\n",
              "1500     2\n",
              "1910    14\n",
              "1928     1\n",
              "        ..\n",
              "7500     1\n",
              "7800     1\n",
              "8500     1\n",
              "8888     2\n",
              "9999     7\n",
              "Name: yearOfRegistration, Length: 97, dtype: int64"
            ]
          },
          "metadata": {
            "tags": []
          },
          "execution_count": 19
        }
      ]
    },
    {
      "cell_type": "markdown",
      "metadata": {
        "id": "JA8WGTwspx2P",
        "colab_type": "text"
      },
      "source": [
        "#### We can see that the yearwisecount is also having datas from future which is no use so lets clean that out"
      ]
    },
    {
      "cell_type": "code",
      "metadata": {
        "id": "kQJ1imU_p99_",
        "colab_type": "code",
        "outputId": "1c8cf22a-2619-480b-b84b-9a91cd11b242",
        "colab": {
          "base_uri": "https://localhost:8080/",
          "height": 545
        }
      },
      "source": [
        "sum(cars['yearOfRegistration'] > 2018)\n",
        "sum(cars['yearOfRegistration'] < 1950)\n",
        "sns.regplot(x='yearOfRegistration', y='price', scatter=True, fit_reg=False, data=cars)"
      ],
      "execution_count": 20,
      "outputs": [
        {
          "output_type": "execute_result",
          "data": {
            "text/plain": [
              "<matplotlib.axes._subplots.AxesSubplot at 0x7f2e6ae244a8>"
            ]
          },
          "metadata": {
            "tags": []
          },
          "execution_count": 20
        },
        {
          "output_type": "display_data",
          "data": {
            "image/png": "[encoded data removed]",
            "text/plain": [
              "<Figure size 842.4x595.44 with 1 Axes>"
            ]
          },
          "metadata": {
            "tags": []
          }
        }
      ]
    },
    {
      "cell_type": "markdown",
      "metadata": {
        "id": "qqrcY0XLq47v",
        "colab_type": "text"
      },
      "source": [
        "##### We can see that we cannot find any insight from this plot\n",
        "##### Working range-1950 and 2018"
      ]
    },
    {
      "cell_type": "markdown",
      "metadata": {
        "id": "j4voG-xqrGoj",
        "colab_type": "text"
      },
      "source": [
        "# **Variable**:- price"
      ]
    },
    {
      "cell_type": "markdown",
      "metadata": {
        "id": "fcvy9QgWrgI1",
        "colab_type": "text"
      },
      "source": [
        "# We do dot value_counts() and then we sort based on the ascending order of the price"
      ]
    },
    {
      "cell_type": "code",
      "metadata": {
        "id": "1to5ru4Ynsvp",
        "colab_type": "code",
        "colab": {}
      },
      "source": [
        "price_counts=cars['price'].value_counts().sort_index()"
      ],
      "execution_count": 0,
      "outputs": []
    },
    {
      "cell_type": "code",
      "metadata": {
        "id": "mkkyo2c2oJDP",
        "colab_type": "code",
        "outputId": "6ba9ff8b-9bf9-4780-99ce-eca0be7fa655",
        "colab": {
          "base_uri": "https://localhost:8080/",
          "height": 221
        }
      },
      "source": [
        "price_counts"
      ],
      "execution_count": 22,
      "outputs": [
        {
          "output_type": "execute_result",
          "data": {
            "text/plain": [
              "0           1415\n",
              "1            172\n",
              "2              1\n",
              "3              1\n",
              "5              4\n",
              "            ... \n",
              "1250000        1\n",
              "2795000        1\n",
              "9999999        1\n",
              "10010011       1\n",
              "12345678       1\n",
              "Name: price, Length: 2393, dtype: int64"
            ]
          },
          "metadata": {
            "tags": []
          },
          "execution_count": 22
        }
      ]
    },
    {
      "cell_type": "code",
      "metadata": {
        "id": "4ELoMFUfoR_P",
        "colab_type": "code",
        "outputId": "e17f517c-4f96-43ff-8dce-155dacbf018e",
        "colab": {
          "base_uri": "https://localhost:8080/",
          "height": 534
        }
      },
      "source": [
        "sns.distplot(cars['price'])"
      ],
      "execution_count": 23,
      "outputs": [
        {
          "output_type": "execute_result",
          "data": {
            "text/plain": [
              "<matplotlib.axes._subplots.AxesSubplot at 0x7f2e6adf7cc0>"
            ]
          },
          "metadata": {
            "tags": []
          },
          "execution_count": 23
        },
        {
          "output_type": "display_data",
          "data": {
            "image/png": "[encoded data removed]",
            "text/plain": [
              "<Figure size 842.4x595.44 with 1 Axes>"
            ]
          },
          "metadata": {
            "tags": []
          }
        }
      ]
    },
    {
      "cell_type": "code",
      "metadata": {
        "id": "mgE1_083oiGf",
        "colab_type": "code",
        "outputId": "00f513b9-f52e-4ae0-a090-e14d11af198d",
        "colab": {
          "base_uri": "https://localhost:8080/",
          "height": 170
        }
      },
      "source": [
        "cars['price'].describe()"
      ],
      "execution_count": 24,
      "outputs": [
        {
          "output_type": "execute_result",
          "data": {
            "text/plain": [
              "count      49531.000\n",
              "mean        6567.220\n",
              "std        86222.378\n",
              "min            0.000\n",
              "25%         1150.000\n",
              "50%         2950.000\n",
              "75%         7100.000\n",
              "max     12345678.000\n",
              "Name: price, dtype: float64"
            ]
          },
          "metadata": {
            "tags": []
          },
          "execution_count": 24
        }
      ]
    },
    {
      "cell_type": "code",
      "metadata": {
        "id": "IhUdHTMUosm-",
        "colab_type": "code",
        "outputId": "ae4784e7-4fa4-4290-c8b8-4191efade936",
        "colab": {
          "base_uri": "https://localhost:8080/",
          "height": 508
        }
      },
      "source": [
        "sns.boxplot(y=cars['price'])"
      ],
      "execution_count": 25,
      "outputs": [
        {
          "output_type": "execute_result",
          "data": {
            "text/plain": [
              "<matplotlib.axes._subplots.AxesSubplot at 0x7f2e68004588>"
            ]
          },
          "metadata": {
            "tags": []
          },
          "execution_count": 25
        },
        {
          "output_type": "display_data",
          "data": {
            "image/png": "[encoded data removed]",
            "text/plain": [
              "<Figure size 842.4x595.44 with 1 Axes>"
            ]
          },
          "metadata": {
            "tags": []
          }
        }
      ]
    },
    {
      "cell_type": "markdown",
      "metadata": {
        "id": "9M1hM6sTo7TO",
        "colab_type": "text"
      },
      "source": [
        "# Lets check how many cars are priced greater than 150000"
      ]
    },
    {
      "cell_type": "code",
      "metadata": {
        "id": "OzFqhrx_pN3l",
        "colab_type": "code",
        "outputId": "c6070663-3cab-45e3-b846-1832e8d4acbb",
        "colab": {
          "base_uri": "https://localhost:8080/",
          "height": 34
        }
      },
      "source": [
        "sum(cars['price'] > 150000)"
      ],
      "execution_count": 26,
      "outputs": [
        {
          "output_type": "execute_result",
          "data": {
            "text/plain": [
              "34"
            ]
          },
          "metadata": {
            "tags": []
          },
          "execution_count": 26
        }
      ]
    },
    {
      "cell_type": "code",
      "metadata": {
        "id": "-_OcW-IfpVsl",
        "colab_type": "code",
        "outputId": "eec80521-287c-4575-c2fc-60b601713f77",
        "colab": {
          "base_uri": "https://localhost:8080/",
          "height": 34
        }
      },
      "source": [
        "# less than 100\n",
        "sum(cars['price'] < 100)"
      ],
      "execution_count": 27,
      "outputs": [
        {
          "output_type": "execute_result",
          "data": {
            "text/plain": [
              "1748"
            ]
          },
          "metadata": {
            "tags": []
          },
          "execution_count": 27
        }
      ]
    },
    {
      "cell_type": "markdown",
      "metadata": {
        "id": "fyz3WyL8pfdd",
        "colab_type": "text"
      },
      "source": [
        "##### Working range 100 and 150000"
      ]
    },
    {
      "cell_type": "markdown",
      "metadata": {
        "id": "nVG-2nKAplbc",
        "colab_type": "text"
      },
      "source": [
        "# varible:- **powerPS**"
      ]
    },
    {
      "cell_type": "code",
      "metadata": {
        "id": "XM_4reljpukD",
        "colab_type": "code",
        "colab": {}
      },
      "source": [
        "power_count = cars['powerPS'].value_counts().sort_index()"
      ],
      "execution_count": 0,
      "outputs": []
    },
    {
      "cell_type": "code",
      "metadata": {
        "id": "KoLetmF5qkmO",
        "colab_type": "code",
        "outputId": "a6a81b80-8426-46cc-c24e-5c75f6b93e93",
        "colab": {
          "base_uri": "https://localhost:8080/",
          "height": 221
        }
      },
      "source": [
        "power_count"
      ],
      "execution_count": 29,
      "outputs": [
        {
          "output_type": "execute_result",
          "data": {
            "text/plain": [
              "0        5533\n",
              "1           3\n",
              "2           2\n",
              "3           2\n",
              "4           4\n",
              "         ... \n",
              "15033       1\n",
              "16011       1\n",
              "16312       1\n",
              "19211       1\n",
              "19312       1\n",
              "Name: powerPS, Length: 460, dtype: int64"
            ]
          },
          "metadata": {
            "tags": []
          },
          "execution_count": 29
        }
      ]
    },
    {
      "cell_type": "code",
      "metadata": {
        "id": "zJJMx2RFqmWS",
        "colab_type": "code",
        "outputId": "3933380e-efc5-47e8-832b-6a7c5807317f",
        "colab": {
          "base_uri": "https://localhost:8080/",
          "height": 534
        }
      },
      "source": [
        "sns.distplot(cars['powerPS']) # Distplot"
      ],
      "execution_count": 30,
      "outputs": [
        {
          "output_type": "execute_result",
          "data": {
            "text/plain": [
              "<matplotlib.axes._subplots.AxesSubplot at 0x7f2e67feea58>"
            ]
          },
          "metadata": {
            "tags": []
          },
          "execution_count": 30
        },
        {
          "output_type": "display_data",
          "data": {
            "image/png": "[encoded data removed]",
            "text/plain": [
              "<Figure size 842.4x595.44 with 1 Axes>"
            ]
          },
          "metadata": {
            "tags": []
          }
        }
      ]
    },
    {
      "cell_type": "code",
      "metadata": {
        "id": "t-P0Wv46qtr6",
        "colab_type": "code",
        "outputId": "97917d25-dc6a-4067-a0aa-a1c75a3fee82",
        "colab": {
          "base_uri": "https://localhost:8080/",
          "height": 170
        }
      },
      "source": [
        "cars['powerPS'].describe()"
      ],
      "execution_count": 31,
      "outputs": [
        {
          "output_type": "execute_result",
          "data": {
            "text/plain": [
              "count   49531.000\n",
              "mean      116.501\n",
              "std       231.536\n",
              "min         0.000\n",
              "25%        69.000\n",
              "50%       105.000\n",
              "75%       150.000\n",
              "max     19312.000\n",
              "Name: powerPS, dtype: float64"
            ]
          },
          "metadata": {
            "tags": []
          },
          "execution_count": 31
        }
      ]
    },
    {
      "cell_type": "code",
      "metadata": {
        "id": "l6pGwNUarCnb",
        "colab_type": "code",
        "outputId": "25d2c7fa-e290-4090-d587-734fac46e3c3",
        "colab": {
          "base_uri": "https://localhost:8080/",
          "height": 497
        }
      },
      "source": [
        "sns.boxplot(y=cars['powerPS'])"
      ],
      "execution_count": 32,
      "outputs": [
        {
          "output_type": "execute_result",
          "data": {
            "text/plain": [
              "<matplotlib.axes._subplots.AxesSubplot at 0x7f2e67ef3da0>"
            ]
          },
          "metadata": {
            "tags": []
          },
          "execution_count": 32
        },
        {
          "output_type": "display_data",
          "data": {
            "image/png": "[encoded data removed]",
            "text/plain": [
              "<Figure size 842.4x595.44 with 1 Axes>"
            ]
          },
          "metadata": {
            "tags": []
          }
        }
      ]
    },
    {
      "cell_type": "code",
      "metadata": {
        "id": "vnvltG4YrUMR",
        "colab_type": "code",
        "outputId": "6cacef4a-9091-4d58-eb2c-7805933a979d",
        "colab": {
          "base_uri": "https://localhost:8080/",
          "height": 545
        }
      },
      "source": [
        "sns.regplot(x='powerPS', y='price', scatter=True, fit_reg=False, data=cars)"
      ],
      "execution_count": 33,
      "outputs": [
        {
          "output_type": "execute_result",
          "data": {
            "text/plain": [
              "<matplotlib.axes._subplots.AxesSubplot at 0x7f2e67eac2e8>"
            ]
          },
          "metadata": {
            "tags": []
          },
          "execution_count": 33
        },
        {
          "output_type": "display_data",
          "data": {
            "image/png": "[encoded data removed]",
            "text/plain": [
              "<Figure size 842.4x595.44 with 1 Axes>"
            ]
          },
          "metadata": {
            "tags": []
          }
        }
      ]
    },
    {
      "cell_type": "code",
      "metadata": {
        "id": "BU3ksmjWr1NQ",
        "colab_type": "code",
        "outputId": "0d03a87f-73a6-4a2b-ca4f-2ede0548876f",
        "colab": {
          "base_uri": "https://localhost:8080/",
          "height": 34
        }
      },
      "source": [
        "sum(cars['powerPS'] > 500)"
      ],
      "execution_count": 34,
      "outputs": [
        {
          "output_type": "execute_result",
          "data": {
            "text/plain": [
              "115"
            ]
          },
          "metadata": {
            "tags": []
          },
          "execution_count": 34
        }
      ]
    },
    {
      "cell_type": "code",
      "metadata": {
        "id": "izlu7GRzsNT3",
        "colab_type": "code",
        "outputId": "aa4da5f8-53f7-4df2-9a51-c6f81294da10",
        "colab": {
          "base_uri": "https://localhost:8080/",
          "height": 34
        }
      },
      "source": [
        "sum(cars['powerPS'] < 10)"
      ],
      "execution_count": 35,
      "outputs": [
        {
          "output_type": "execute_result",
          "data": {
            "text/plain": [
              "5565"
            ]
          },
          "metadata": {
            "tags": []
          },
          "execution_count": 35
        }
      ]
    },
    {
      "cell_type": "markdown",
      "metadata": {
        "id": "l32VV3LDsQtP",
        "colab_type": "text"
      },
      "source": [
        "##### Working range 10 and 500"
      ]
    },
    {
      "cell_type": "markdown",
      "metadata": {
        "id": "-CwwfqcnsVxG",
        "colab_type": "text"
      },
      "source": [
        "# **Cleaning the Data**"
      ]
    },
    {
      "cell_type": "markdown",
      "metadata": {
        "id": "PqvgLhCGtEUE",
        "colab_type": "text"
      },
      "source": [
        "### Working Range's of Data"
      ]
    },
    {
      "cell_type": "code",
      "metadata": {
        "id": "GBHJn1nb1UMp",
        "colab_type": "code",
        "colab": {}
      },
      "source": [
        "cars = cars[\n",
        "            (cars.yearOfRegistration <=2018) & (cars.yearOfRegistration >= 1950) &\n",
        "            (cars.price >= 100) & (cars.price <=150000) &\n",
        "            (cars.powerPS >= 10) & (cars.powerPS <= 500)\n",
        "            ]"
      ],
      "execution_count": 0,
      "outputs": []
    },
    {
      "cell_type": "markdown",
      "metadata": {
        "id": "2CA_ef512yj8",
        "colab_type": "text"
      },
      "source": [
        "###### 6700 records are dropped"
      ]
    },
    {
      "cell_type": "markdown",
      "metadata": {
        "id": "e3l5mp1o23MW",
        "colab_type": "text"
      },
      "source": [
        "### Also with year of registration it's hard to find the age of the car\n",
        "### So we are going to substract the year of registration from 2018 and add the month of registration {For the month of registration we are going to divide it by 12 which gives us months in decimal and}\n",
        "### and add another variable age to the dataset"
      ]
    },
    {
      "cell_type": "markdown",
      "metadata": {
        "id": "O0tkmGNa3yTp",
        "colab_type": "text"
      },
      "source": [
        "# Further to simplyfy wariable reduction\n",
        "# combining yearOfRegistration and monthOfRegistration"
      ]
    },
    {
      "cell_type": "code",
      "metadata": {
        "id": "tCSw2w9_4XJJ",
        "colab_type": "code",
        "colab": {
          "base_uri": "https://localhost:8080/",
          "height": 456
        },
        "outputId": "df74f669-7235-4995-a2e0-5c868aba8645"
      },
      "source": [
        "cars"
      ],
      "execution_count": 37,
      "outputs": [
        {
          "output_type": "execute_result",
          "data": {
            "text/html": [
              "<div>\n",
              "<style scoped>\n",
              "    .dataframe tbody tr th:only-of-type {\n",
              "        vertical-align: middle;\n",
              "    }\n",
              "\n",
              "    .dataframe tbody tr th {\n",
              "        vertical-align: top;\n",
              "    }\n",
              "\n",
              "    .dataframe thead th {\n",
              "        text-align: right;\n",
              "    }\n",
              "</style>\n",
              "<table border=\"1\" class=\"dataframe\">\n",
              "  <thead>\n",
              "    <tr style=\"text-align: right;\">\n",
              "      <th></th>\n",
              "      <th>seller</th>\n",
              "      <th>offerType</th>\n",
              "      <th>price</th>\n",
              "      <th>abtest</th>\n",
              "      <th>vehicleType</th>\n",
              "      <th>yearOfRegistration</th>\n",
              "      <th>gearbox</th>\n",
              "      <th>powerPS</th>\n",
              "      <th>model</th>\n",
              "      <th>kilometer</th>\n",
              "      <th>monthOfRegistration</th>\n",
              "      <th>fuelType</th>\n",
              "      <th>brand</th>\n",
              "      <th>notRepairedDamage</th>\n",
              "    </tr>\n",
              "  </thead>\n",
              "  <tbody>\n",
              "    <tr>\n",
              "      <th>0</th>\n",
              "      <td>private</td>\n",
              "      <td>offer</td>\n",
              "      <td>4450</td>\n",
              "      <td>test</td>\n",
              "      <td>limousine</td>\n",
              "      <td>2003</td>\n",
              "      <td>manual</td>\n",
              "      <td>150</td>\n",
              "      <td>3er</td>\n",
              "      <td>150000</td>\n",
              "      <td>3</td>\n",
              "      <td>diesel</td>\n",
              "      <td>bmw</td>\n",
              "      <td>NaN</td>\n",
              "    </tr>\n",
              "    <tr>\n",
              "      <th>1</th>\n",
              "      <td>private</td>\n",
              "      <td>offer</td>\n",
              "      <td>13299</td>\n",
              "      <td>control</td>\n",
              "      <td>suv</td>\n",
              "      <td>2005</td>\n",
              "      <td>manual</td>\n",
              "      <td>163</td>\n",
              "      <td>xc_reihe</td>\n",
              "      <td>150000</td>\n",
              "      <td>6</td>\n",
              "      <td>diesel</td>\n",
              "      <td>volvo</td>\n",
              "      <td>no</td>\n",
              "    </tr>\n",
              "    <tr>\n",
              "      <th>2</th>\n",
              "      <td>private</td>\n",
              "      <td>offer</td>\n",
              "      <td>3200</td>\n",
              "      <td>test</td>\n",
              "      <td>bus</td>\n",
              "      <td>2003</td>\n",
              "      <td>manual</td>\n",
              "      <td>101</td>\n",
              "      <td>touran</td>\n",
              "      <td>150000</td>\n",
              "      <td>11</td>\n",
              "      <td>diesel</td>\n",
              "      <td>volkswagen</td>\n",
              "      <td>NaN</td>\n",
              "    </tr>\n",
              "    <tr>\n",
              "      <th>3</th>\n",
              "      <td>private</td>\n",
              "      <td>offer</td>\n",
              "      <td>4500</td>\n",
              "      <td>control</td>\n",
              "      <td>small car</td>\n",
              "      <td>2006</td>\n",
              "      <td>manual</td>\n",
              "      <td>86</td>\n",
              "      <td>ibiza</td>\n",
              "      <td>60000</td>\n",
              "      <td>12</td>\n",
              "      <td>petrol</td>\n",
              "      <td>seat</td>\n",
              "      <td>no</td>\n",
              "    </tr>\n",
              "    <tr>\n",
              "      <th>4</th>\n",
              "      <td>private</td>\n",
              "      <td>offer</td>\n",
              "      <td>18750</td>\n",
              "      <td>test</td>\n",
              "      <td>suv</td>\n",
              "      <td>2008</td>\n",
              "      <td>automatic</td>\n",
              "      <td>185</td>\n",
              "      <td>xc_reihe</td>\n",
              "      <td>150000</td>\n",
              "      <td>11</td>\n",
              "      <td>diesel</td>\n",
              "      <td>volvo</td>\n",
              "      <td>no</td>\n",
              "    </tr>\n",
              "    <tr>\n",
              "      <th>...</th>\n",
              "      <td>...</td>\n",
              "      <td>...</td>\n",
              "      <td>...</td>\n",
              "      <td>...</td>\n",
              "      <td>...</td>\n",
              "      <td>...</td>\n",
              "      <td>...</td>\n",
              "      <td>...</td>\n",
              "      <td>...</td>\n",
              "      <td>...</td>\n",
              "      <td>...</td>\n",
              "      <td>...</td>\n",
              "      <td>...</td>\n",
              "      <td>...</td>\n",
              "    </tr>\n",
              "    <tr>\n",
              "      <th>49991</th>\n",
              "      <td>private</td>\n",
              "      <td>offer</td>\n",
              "      <td>10900</td>\n",
              "      <td>test</td>\n",
              "      <td>limousine</td>\n",
              "      <td>2004</td>\n",
              "      <td>manual</td>\n",
              "      <td>231</td>\n",
              "      <td>x_reihe</td>\n",
              "      <td>150000</td>\n",
              "      <td>8</td>\n",
              "      <td>petrol</td>\n",
              "      <td>bmw</td>\n",
              "      <td>no</td>\n",
              "    </tr>\n",
              "    <tr>\n",
              "      <th>49992</th>\n",
              "      <td>private</td>\n",
              "      <td>offer</td>\n",
              "      <td>790</td>\n",
              "      <td>test</td>\n",
              "      <td>limousine</td>\n",
              "      <td>1998</td>\n",
              "      <td>manual</td>\n",
              "      <td>82</td>\n",
              "      <td>astra</td>\n",
              "      <td>150000</td>\n",
              "      <td>9</td>\n",
              "      <td>diesel</td>\n",
              "      <td>opel</td>\n",
              "      <td>no</td>\n",
              "    </tr>\n",
              "    <tr>\n",
              "      <th>49993</th>\n",
              "      <td>private</td>\n",
              "      <td>offer</td>\n",
              "      <td>830</td>\n",
              "      <td>test</td>\n",
              "      <td>small car</td>\n",
              "      <td>1999</td>\n",
              "      <td>manual</td>\n",
              "      <td>60</td>\n",
              "      <td>clio</td>\n",
              "      <td>125000</td>\n",
              "      <td>8</td>\n",
              "      <td>petrol</td>\n",
              "      <td>renault</td>\n",
              "      <td>no</td>\n",
              "    </tr>\n",
              "    <tr>\n",
              "      <th>49995</th>\n",
              "      <td>private</td>\n",
              "      <td>offer</td>\n",
              "      <td>2290</td>\n",
              "      <td>test</td>\n",
              "      <td>station wagon</td>\n",
              "      <td>2001</td>\n",
              "      <td>manual</td>\n",
              "      <td>101</td>\n",
              "      <td>astra</td>\n",
              "      <td>150000</td>\n",
              "      <td>3</td>\n",
              "      <td>petrol</td>\n",
              "      <td>opel</td>\n",
              "      <td>no</td>\n",
              "    </tr>\n",
              "    <tr>\n",
              "      <th>50000</th>\n",
              "      <td>commercial</td>\n",
              "      <td>offer</td>\n",
              "      <td>1100</td>\n",
              "      <td>test</td>\n",
              "      <td>small car</td>\n",
              "      <td>2006</td>\n",
              "      <td>manual</td>\n",
              "      <td>38</td>\n",
              "      <td>matiz</td>\n",
              "      <td>150000</td>\n",
              "      <td>10</td>\n",
              "      <td>petrol</td>\n",
              "      <td>chevrolet</td>\n",
              "      <td>no</td>\n",
              "    </tr>\n",
              "  </tbody>\n",
              "</table>\n",
              "<p>42772 rows × 14 columns</p>\n",
              "</div>"
            ],
            "text/plain": [
              "           seller offerType  price   abtest    vehicleType  \\\n",
              "0         private     offer   4450     test      limousine   \n",
              "1         private     offer  13299  control            suv   \n",
              "2         private     offer   3200     test            bus   \n",
              "3         private     offer   4500  control      small car   \n",
              "4         private     offer  18750     test            suv   \n",
              "...           ...       ...    ...      ...            ...   \n",
              "49991     private     offer  10900     test      limousine   \n",
              "49992     private     offer    790     test      limousine   \n",
              "49993     private     offer    830     test      small car   \n",
              "49995     private     offer   2290     test  station wagon   \n",
              "50000  commercial     offer   1100     test      small car   \n",
              "\n",
              "       yearOfRegistration    gearbox  powerPS     model  kilometer  \\\n",
              "0                    2003     manual      150       3er     150000   \n",
              "1                    2005     manual      163  xc_reihe     150000   \n",
              "2                    2003     manual      101    touran     150000   \n",
              "3                    2006     manual       86     ibiza      60000   \n",
              "4                    2008  automatic      185  xc_reihe     150000   \n",
              "...                   ...        ...      ...       ...        ...   \n",
              "49991                2004     manual      231   x_reihe     150000   \n",
              "49992                1998     manual       82     astra     150000   \n",
              "49993                1999     manual       60      clio     125000   \n",
              "49995                2001     manual      101     astra     150000   \n",
              "50000                2006     manual       38     matiz     150000   \n",
              "\n",
              "       monthOfRegistration fuelType       brand notRepairedDamage  \n",
              "0                        3   diesel         bmw               NaN  \n",
              "1                        6   diesel       volvo                no  \n",
              "2                       11   diesel  volkswagen               NaN  \n",
              "3                       12   petrol        seat                no  \n",
              "4                       11   diesel       volvo                no  \n",
              "...                    ...      ...         ...               ...  \n",
              "49991                    8   petrol         bmw                no  \n",
              "49992                    9   diesel        opel                no  \n",
              "49993                    8   petrol     renault                no  \n",
              "49995                    3   petrol        opel                no  \n",
              "50000                   10   petrol   chevrolet                no  \n",
              "\n",
              "[42772 rows x 14 columns]"
            ]
          },
          "metadata": {
            "tags": []
          },
          "execution_count": 37
        }
      ]
    },
    {
      "cell_type": "code",
      "metadata": {
        "id": "WRNVqvJB4GW1",
        "colab_type": "code",
        "colab": {}
      },
      "source": [
        "cars['monthOfRegistration'] /= 12"
      ],
      "execution_count": 0,
      "outputs": []
    },
    {
      "cell_type": "code",
      "metadata": {
        "id": "iepDHhIn4SR2",
        "colab_type": "code",
        "colab": {
          "base_uri": "https://localhost:8080/",
          "height": 456
        },
        "outputId": "55db600d-d07a-4dae-dcf5-97f500bfb2df"
      },
      "source": [
        "cars"
      ],
      "execution_count": 39,
      "outputs": [
        {
          "output_type": "execute_result",
          "data": {
            "text/html": [
              "<div>\n",
              "<style scoped>\n",
              "    .dataframe tbody tr th:only-of-type {\n",
              "        vertical-align: middle;\n",
              "    }\n",
              "\n",
              "    .dataframe tbody tr th {\n",
              "        vertical-align: top;\n",
              "    }\n",
              "\n",
              "    .dataframe thead th {\n",
              "        text-align: right;\n",
              "    }\n",
              "</style>\n",
              "<table border=\"1\" class=\"dataframe\">\n",
              "  <thead>\n",
              "    <tr style=\"text-align: right;\">\n",
              "      <th></th>\n",
              "      <th>seller</th>\n",
              "      <th>offerType</th>\n",
              "      <th>price</th>\n",
              "      <th>abtest</th>\n",
              "      <th>vehicleType</th>\n",
              "      <th>yearOfRegistration</th>\n",
              "      <th>gearbox</th>\n",
              "      <th>powerPS</th>\n",
              "      <th>model</th>\n",
              "      <th>kilometer</th>\n",
              "      <th>monthOfRegistration</th>\n",
              "      <th>fuelType</th>\n",
              "      <th>brand</th>\n",
              "      <th>notRepairedDamage</th>\n",
              "    </tr>\n",
              "  </thead>\n",
              "  <tbody>\n",
              "    <tr>\n",
              "      <th>0</th>\n",
              "      <td>private</td>\n",
              "      <td>offer</td>\n",
              "      <td>4450</td>\n",
              "      <td>test</td>\n",
              "      <td>limousine</td>\n",
              "      <td>2003</td>\n",
              "      <td>manual</td>\n",
              "      <td>150</td>\n",
              "      <td>3er</td>\n",
              "      <td>150000</td>\n",
              "      <td>0.250</td>\n",
              "      <td>diesel</td>\n",
              "      <td>bmw</td>\n",
              "      <td>NaN</td>\n",
              "    </tr>\n",
              "    <tr>\n",
              "      <th>1</th>\n",
              "      <td>private</td>\n",
              "      <td>offer</td>\n",
              "      <td>13299</td>\n",
              "      <td>control</td>\n",
              "      <td>suv</td>\n",
              "      <td>2005</td>\n",
              "      <td>manual</td>\n",
              "      <td>163</td>\n",
              "      <td>xc_reihe</td>\n",
              "      <td>150000</td>\n",
              "      <td>0.500</td>\n",
              "      <td>diesel</td>\n",
              "      <td>volvo</td>\n",
              "      <td>no</td>\n",
              "    </tr>\n",
              "    <tr>\n",
              "      <th>2</th>\n",
              "      <td>private</td>\n",
              "      <td>offer</td>\n",
              "      <td>3200</td>\n",
              "      <td>test</td>\n",
              "      <td>bus</td>\n",
              "      <td>2003</td>\n",
              "      <td>manual</td>\n",
              "      <td>101</td>\n",
              "      <td>touran</td>\n",
              "      <td>150000</td>\n",
              "      <td>0.917</td>\n",
              "      <td>diesel</td>\n",
              "      <td>volkswagen</td>\n",
              "      <td>NaN</td>\n",
              "    </tr>\n",
              "    <tr>\n",
              "      <th>3</th>\n",
              "      <td>private</td>\n",
              "      <td>offer</td>\n",
              "      <td>4500</td>\n",
              "      <td>control</td>\n",
              "      <td>small car</td>\n",
              "      <td>2006</td>\n",
              "      <td>manual</td>\n",
              "      <td>86</td>\n",
              "      <td>ibiza</td>\n",
              "      <td>60000</td>\n",
              "      <td>1.000</td>\n",
              "      <td>petrol</td>\n",
              "      <td>seat</td>\n",
              "      <td>no</td>\n",
              "    </tr>\n",
              "    <tr>\n",
              "      <th>4</th>\n",
              "      <td>private</td>\n",
              "      <td>offer</td>\n",
              "      <td>18750</td>\n",
              "      <td>test</td>\n",
              "      <td>suv</td>\n",
              "      <td>2008</td>\n",
              "      <td>automatic</td>\n",
              "      <td>185</td>\n",
              "      <td>xc_reihe</td>\n",
              "      <td>150000</td>\n",
              "      <td>0.917</td>\n",
              "      <td>diesel</td>\n",
              "      <td>volvo</td>\n",
              "      <td>no</td>\n",
              "    </tr>\n",
              "    <tr>\n",
              "      <th>...</th>\n",
              "      <td>...</td>\n",
              "      <td>...</td>\n",
              "      <td>...</td>\n",
              "      <td>...</td>\n",
              "      <td>...</td>\n",
              "      <td>...</td>\n",
              "      <td>...</td>\n",
              "      <td>...</td>\n",
              "      <td>...</td>\n",
              "      <td>...</td>\n",
              "      <td>...</td>\n",
              "      <td>...</td>\n",
              "      <td>...</td>\n",
              "      <td>...</td>\n",
              "    </tr>\n",
              "    <tr>\n",
              "      <th>49991</th>\n",
              "      <td>private</td>\n",
              "      <td>offer</td>\n",
              "      <td>10900</td>\n",
              "      <td>test</td>\n",
              "      <td>limousine</td>\n",
              "      <td>2004</td>\n",
              "      <td>manual</td>\n",
              "      <td>231</td>\n",
              "      <td>x_reihe</td>\n",
              "      <td>150000</td>\n",
              "      <td>0.667</td>\n",
              "      <td>petrol</td>\n",
              "      <td>bmw</td>\n",
              "      <td>no</td>\n",
              "    </tr>\n",
              "    <tr>\n",
              "      <th>49992</th>\n",
              "      <td>private</td>\n",
              "      <td>offer</td>\n",
              "      <td>790</td>\n",
              "      <td>test</td>\n",
              "      <td>limousine</td>\n",
              "      <td>1998</td>\n",
              "      <td>manual</td>\n",
              "      <td>82</td>\n",
              "      <td>astra</td>\n",
              "      <td>150000</td>\n",
              "      <td>0.750</td>\n",
              "      <td>diesel</td>\n",
              "      <td>opel</td>\n",
              "      <td>no</td>\n",
              "    </tr>\n",
              "    <tr>\n",
              "      <th>49993</th>\n",
              "      <td>private</td>\n",
              "      <td>offer</td>\n",
              "      <td>830</td>\n",
              "      <td>test</td>\n",
              "      <td>small car</td>\n",
              "      <td>1999</td>\n",
              "      <td>manual</td>\n",
              "      <td>60</td>\n",
              "      <td>clio</td>\n",
              "      <td>125000</td>\n",
              "      <td>0.667</td>\n",
              "      <td>petrol</td>\n",
              "      <td>renault</td>\n",
              "      <td>no</td>\n",
              "    </tr>\n",
              "    <tr>\n",
              "      <th>49995</th>\n",
              "      <td>private</td>\n",
              "      <td>offer</td>\n",
              "      <td>2290</td>\n",
              "      <td>test</td>\n",
              "      <td>station wagon</td>\n",
              "      <td>2001</td>\n",
              "      <td>manual</td>\n",
              "      <td>101</td>\n",
              "      <td>astra</td>\n",
              "      <td>150000</td>\n",
              "      <td>0.250</td>\n",
              "      <td>petrol</td>\n",
              "      <td>opel</td>\n",
              "      <td>no</td>\n",
              "    </tr>\n",
              "    <tr>\n",
              "      <th>50000</th>\n",
              "      <td>commercial</td>\n",
              "      <td>offer</td>\n",
              "      <td>1100</td>\n",
              "      <td>test</td>\n",
              "      <td>small car</td>\n",
              "      <td>2006</td>\n",
              "      <td>manual</td>\n",
              "      <td>38</td>\n",
              "      <td>matiz</td>\n",
              "      <td>150000</td>\n",
              "      <td>0.833</td>\n",
              "      <td>petrol</td>\n",
              "      <td>chevrolet</td>\n",
              "      <td>no</td>\n",
              "    </tr>\n",
              "  </tbody>\n",
              "</table>\n",
              "<p>42772 rows × 14 columns</p>\n",
              "</div>"
            ],
            "text/plain": [
              "           seller offerType  price   abtest    vehicleType  \\\n",
              "0         private     offer   4450     test      limousine   \n",
              "1         private     offer  13299  control            suv   \n",
              "2         private     offer   3200     test            bus   \n",
              "3         private     offer   4500  control      small car   \n",
              "4         private     offer  18750     test            suv   \n",
              "...           ...       ...    ...      ...            ...   \n",
              "49991     private     offer  10900     test      limousine   \n",
              "49992     private     offer    790     test      limousine   \n",
              "49993     private     offer    830     test      small car   \n",
              "49995     private     offer   2290     test  station wagon   \n",
              "50000  commercial     offer   1100     test      small car   \n",
              "\n",
              "       yearOfRegistration    gearbox  powerPS     model  kilometer  \\\n",
              "0                    2003     manual      150       3er     150000   \n",
              "1                    2005     manual      163  xc_reihe     150000   \n",
              "2                    2003     manual      101    touran     150000   \n",
              "3                    2006     manual       86     ibiza      60000   \n",
              "4                    2008  automatic      185  xc_reihe     150000   \n",
              "...                   ...        ...      ...       ...        ...   \n",
              "49991                2004     manual      231   x_reihe     150000   \n",
              "49992                1998     manual       82     astra     150000   \n",
              "49993                1999     manual       60      clio     125000   \n",
              "49995                2001     manual      101     astra     150000   \n",
              "50000                2006     manual       38     matiz     150000   \n",
              "\n",
              "       monthOfRegistration fuelType       brand notRepairedDamage  \n",
              "0                    0.250   diesel         bmw               NaN  \n",
              "1                    0.500   diesel       volvo                no  \n",
              "2                    0.917   diesel  volkswagen               NaN  \n",
              "3                    1.000   petrol        seat                no  \n",
              "4                    0.917   diesel       volvo                no  \n",
              "...                    ...      ...         ...               ...  \n",
              "49991                0.667   petrol         bmw                no  \n",
              "49992                0.750   diesel        opel                no  \n",
              "49993                0.667   petrol     renault                no  \n",
              "49995                0.250   petrol        opel                no  \n",
              "50000                0.833   petrol   chevrolet                no  \n",
              "\n",
              "[42772 rows x 14 columns]"
            ]
          },
          "metadata": {
            "tags": []
          },
          "execution_count": 39
        }
      ]
    },
    {
      "cell_type": "markdown",
      "metadata": {
        "id": "GmzL46vN4ToF",
        "colab_type": "text"
      },
      "source": [
        "# Creating new variable Age by adding yearOfRegistration and monthOfRegistration"
      ]
    },
    {
      "cell_type": "code",
      "metadata": {
        "id": "z-67Vd2J7Zbx",
        "colab_type": "code",
        "colab": {}
      },
      "source": [
        "cars['Age'] = (2018 - cars['yearOfRegistration']) + cars['monthOfRegistration']"
      ],
      "execution_count": 0,
      "outputs": []
    },
    {
      "cell_type": "code",
      "metadata": {
        "id": "-HIkhsF17uA5",
        "colab_type": "code",
        "colab": {
          "base_uri": "https://localhost:8080/",
          "height": 357
        },
        "outputId": "96404f78-5328-4139-8ef9-b27eb110dc7d"
      },
      "source": [
        "cars.info()"
      ],
      "execution_count": 41,
      "outputs": [
        {
          "output_type": "stream",
          "text": [
            "<class 'pandas.core.frame.DataFrame'>\n",
            "Int64Index: 42772 entries, 0 to 50000\n",
            "Data columns (total 15 columns):\n",
            "seller                 42772 non-null object\n",
            "offerType              42772 non-null object\n",
            "price                  42772 non-null int64\n",
            "abtest                 42772 non-null object\n",
            "vehicleType            39896 non-null object\n",
            "yearOfRegistration     42772 non-null int64\n",
            "gearbox                41978 non-null object\n",
            "powerPS                42772 non-null int64\n",
            "model                  41089 non-null object\n",
            "kilometer              42772 non-null int64\n",
            "monthOfRegistration    42772 non-null float64\n",
            "fuelType               40175 non-null object\n",
            "brand                  42772 non-null object\n",
            "notRepairedDamage      36495 non-null object\n",
            "Age                    42772 non-null float64\n",
            "dtypes: float64(2), int64(4), object(9)\n",
            "memory usage: 5.2+ MB\n"
          ],
          "name": "stdout"
        }
      ]
    },
    {
      "cell_type": "code",
      "metadata": {
        "id": "l7jI_exP8GLN",
        "colab_type": "code",
        "colab": {
          "base_uri": "https://localhost:8080/",
          "height": 456
        },
        "outputId": "02e2cdf0-759d-4d2e-c6e3-49238ed4b74b"
      },
      "source": [
        "cars"
      ],
      "execution_count": 42,
      "outputs": [
        {
          "output_type": "execute_result",
          "data": {
            "text/html": [
              "<div>\n",
              "<style scoped>\n",
              "    .dataframe tbody tr th:only-of-type {\n",
              "        vertical-align: middle;\n",
              "    }\n",
              "\n",
              "    .dataframe tbody tr th {\n",
              "        vertical-align: top;\n",
              "    }\n",
              "\n",
              "    .dataframe thead th {\n",
              "        text-align: right;\n",
              "    }\n",
              "</style>\n",
              "<table border=\"1\" class=\"dataframe\">\n",
              "  <thead>\n",
              "    <tr style=\"text-align: right;\">\n",
              "      <th></th>\n",
              "      <th>seller</th>\n",
              "      <th>offerType</th>\n",
              "      <th>price</th>\n",
              "      <th>abtest</th>\n",
              "      <th>vehicleType</th>\n",
              "      <th>yearOfRegistration</th>\n",
              "      <th>gearbox</th>\n",
              "      <th>powerPS</th>\n",
              "      <th>model</th>\n",
              "      <th>kilometer</th>\n",
              "      <th>monthOfRegistration</th>\n",
              "      <th>fuelType</th>\n",
              "      <th>brand</th>\n",
              "      <th>notRepairedDamage</th>\n",
              "      <th>Age</th>\n",
              "    </tr>\n",
              "  </thead>\n",
              "  <tbody>\n",
              "    <tr>\n",
              "      <th>0</th>\n",
              "      <td>private</td>\n",
              "      <td>offer</td>\n",
              "      <td>4450</td>\n",
              "      <td>test</td>\n",
              "      <td>limousine</td>\n",
              "      <td>2003</td>\n",
              "      <td>manual</td>\n",
              "      <td>150</td>\n",
              "      <td>3er</td>\n",
              "      <td>150000</td>\n",
              "      <td>0.250</td>\n",
              "      <td>diesel</td>\n",
              "      <td>bmw</td>\n",
              "      <td>NaN</td>\n",
              "      <td>15.250</td>\n",
              "    </tr>\n",
              "    <tr>\n",
              "      <th>1</th>\n",
              "      <td>private</td>\n",
              "      <td>offer</td>\n",
              "      <td>13299</td>\n",
              "      <td>control</td>\n",
              "      <td>suv</td>\n",
              "      <td>2005</td>\n",
              "      <td>manual</td>\n",
              "      <td>163</td>\n",
              "      <td>xc_reihe</td>\n",
              "      <td>150000</td>\n",
              "      <td>0.500</td>\n",
              "      <td>diesel</td>\n",
              "      <td>volvo</td>\n",
              "      <td>no</td>\n",
              "      <td>13.500</td>\n",
              "    </tr>\n",
              "    <tr>\n",
              "      <th>2</th>\n",
              "      <td>private</td>\n",
              "      <td>offer</td>\n",
              "      <td>3200</td>\n",
              "      <td>test</td>\n",
              "      <td>bus</td>\n",
              "      <td>2003</td>\n",
              "      <td>manual</td>\n",
              "      <td>101</td>\n",
              "      <td>touran</td>\n",
              "      <td>150000</td>\n",
              "      <td>0.917</td>\n",
              "      <td>diesel</td>\n",
              "      <td>volkswagen</td>\n",
              "      <td>NaN</td>\n",
              "      <td>15.917</td>\n",
              "    </tr>\n",
              "    <tr>\n",
              "      <th>3</th>\n",
              "      <td>private</td>\n",
              "      <td>offer</td>\n",
              "      <td>4500</td>\n",
              "      <td>control</td>\n",
              "      <td>small car</td>\n",
              "      <td>2006</td>\n",
              "      <td>manual</td>\n",
              "      <td>86</td>\n",
              "      <td>ibiza</td>\n",
              "      <td>60000</td>\n",
              "      <td>1.000</td>\n",
              "      <td>petrol</td>\n",
              "      <td>seat</td>\n",
              "      <td>no</td>\n",
              "      <td>13.000</td>\n",
              "    </tr>\n",
              "    <tr>\n",
              "      <th>4</th>\n",
              "      <td>private</td>\n",
              "      <td>offer</td>\n",
              "      <td>18750</td>\n",
              "      <td>test</td>\n",
              "      <td>suv</td>\n",
              "      <td>2008</td>\n",
              "      <td>automatic</td>\n",
              "      <td>185</td>\n",
              "      <td>xc_reihe</td>\n",
              "      <td>150000</td>\n",
              "      <td>0.917</td>\n",
              "      <td>diesel</td>\n",
              "      <td>volvo</td>\n",
              "      <td>no</td>\n",
              "      <td>10.917</td>\n",
              "    </tr>\n",
              "    <tr>\n",
              "      <th>...</th>\n",
              "      <td>...</td>\n",
              "      <td>...</td>\n",
              "      <td>...</td>\n",
              "      <td>...</td>\n",
              "      <td>...</td>\n",
              "      <td>...</td>\n",
              "      <td>...</td>\n",
              "      <td>...</td>\n",
              "      <td>...</td>\n",
              "      <td>...</td>\n",
              "      <td>...</td>\n",
              "      <td>...</td>\n",
              "      <td>...</td>\n",
              "      <td>...</td>\n",
              "      <td>...</td>\n",
              "    </tr>\n",
              "    <tr>\n",
              "      <th>49991</th>\n",
              "      <td>private</td>\n",
              "      <td>offer</td>\n",
              "      <td>10900</td>\n",
              "      <td>test</td>\n",
              "      <td>limousine</td>\n",
              "      <td>2004</td>\n",
              "      <td>manual</td>\n",
              "      <td>231</td>\n",
              "      <td>x_reihe</td>\n",
              "      <td>150000</td>\n",
              "      <td>0.667</td>\n",
              "      <td>petrol</td>\n",
              "      <td>bmw</td>\n",
              "      <td>no</td>\n",
              "      <td>14.667</td>\n",
              "    </tr>\n",
              "    <tr>\n",
              "      <th>49992</th>\n",
              "      <td>private</td>\n",
              "      <td>offer</td>\n",
              "      <td>790</td>\n",
              "      <td>test</td>\n",
              "      <td>limousine</td>\n",
              "      <td>1998</td>\n",
              "      <td>manual</td>\n",
              "      <td>82</td>\n",
              "      <td>astra</td>\n",
              "      <td>150000</td>\n",
              "      <td>0.750</td>\n",
              "      <td>diesel</td>\n",
              "      <td>opel</td>\n",
              "      <td>no</td>\n",
              "      <td>20.750</td>\n",
              "    </tr>\n",
              "    <tr>\n",
              "      <th>49993</th>\n",
              "      <td>private</td>\n",
              "      <td>offer</td>\n",
              "      <td>830</td>\n",
              "      <td>test</td>\n",
              "      <td>small car</td>\n",
              "      <td>1999</td>\n",
              "      <td>manual</td>\n",
              "      <td>60</td>\n",
              "      <td>clio</td>\n",
              "      <td>125000</td>\n",
              "      <td>0.667</td>\n",
              "      <td>petrol</td>\n",
              "      <td>renault</td>\n",
              "      <td>no</td>\n",
              "      <td>19.667</td>\n",
              "    </tr>\n",
              "    <tr>\n",
              "      <th>49995</th>\n",
              "      <td>private</td>\n",
              "      <td>offer</td>\n",
              "      <td>2290</td>\n",
              "      <td>test</td>\n",
              "      <td>station wagon</td>\n",
              "      <td>2001</td>\n",
              "      <td>manual</td>\n",
              "      <td>101</td>\n",
              "      <td>astra</td>\n",
              "      <td>150000</td>\n",
              "      <td>0.250</td>\n",
              "      <td>petrol</td>\n",
              "      <td>opel</td>\n",
              "      <td>no</td>\n",
              "      <td>17.250</td>\n",
              "    </tr>\n",
              "    <tr>\n",
              "      <th>50000</th>\n",
              "      <td>commercial</td>\n",
              "      <td>offer</td>\n",
              "      <td>1100</td>\n",
              "      <td>test</td>\n",
              "      <td>small car</td>\n",
              "      <td>2006</td>\n",
              "      <td>manual</td>\n",
              "      <td>38</td>\n",
              "      <td>matiz</td>\n",
              "      <td>150000</td>\n",
              "      <td>0.833</td>\n",
              "      <td>petrol</td>\n",
              "      <td>chevrolet</td>\n",
              "      <td>no</td>\n",
              "      <td>12.833</td>\n",
              "    </tr>\n",
              "  </tbody>\n",
              "</table>\n",
              "<p>42772 rows × 15 columns</p>\n",
              "</div>"
            ],
            "text/plain": [
              "           seller offerType  price   abtest    vehicleType  \\\n",
              "0         private     offer   4450     test      limousine   \n",
              "1         private     offer  13299  control            suv   \n",
              "2         private     offer   3200     test            bus   \n",
              "3         private     offer   4500  control      small car   \n",
              "4         private     offer  18750     test            suv   \n",
              "...           ...       ...    ...      ...            ...   \n",
              "49991     private     offer  10900     test      limousine   \n",
              "49992     private     offer    790     test      limousine   \n",
              "49993     private     offer    830     test      small car   \n",
              "49995     private     offer   2290     test  station wagon   \n",
              "50000  commercial     offer   1100     test      small car   \n",
              "\n",
              "       yearOfRegistration    gearbox  powerPS     model  kilometer  \\\n",
              "0                    2003     manual      150       3er     150000   \n",
              "1                    2005     manual      163  xc_reihe     150000   \n",
              "2                    2003     manual      101    touran     150000   \n",
              "3                    2006     manual       86     ibiza      60000   \n",
              "4                    2008  automatic      185  xc_reihe     150000   \n",
              "...                   ...        ...      ...       ...        ...   \n",
              "49991                2004     manual      231   x_reihe     150000   \n",
              "49992                1998     manual       82     astra     150000   \n",
              "49993                1999     manual       60      clio     125000   \n",
              "49995                2001     manual      101     astra     150000   \n",
              "50000                2006     manual       38     matiz     150000   \n",
              "\n",
              "       monthOfRegistration fuelType       brand notRepairedDamage    Age  \n",
              "0                    0.250   diesel         bmw               NaN 15.250  \n",
              "1                    0.500   diesel       volvo                no 13.500  \n",
              "2                    0.917   diesel  volkswagen               NaN 15.917  \n",
              "3                    1.000   petrol        seat                no 13.000  \n",
              "4                    0.917   diesel       volvo                no 10.917  \n",
              "...                    ...      ...         ...               ...    ...  \n",
              "49991                0.667   petrol         bmw                no 14.667  \n",
              "49992                0.750   diesel        opel                no 20.750  \n",
              "49993                0.667   petrol     renault                no 19.667  \n",
              "49995                0.250   petrol        opel                no 17.250  \n",
              "50000                0.833   petrol   chevrolet                no 12.833  \n",
              "\n",
              "[42772 rows x 15 columns]"
            ]
          },
          "metadata": {
            "tags": []
          },
          "execution_count": 42
        }
      ]
    },
    {
      "cell_type": "code",
      "metadata": {
        "id": "WL2eNSt87v1x",
        "colab_type": "code",
        "colab": {}
      },
      "source": [
        "# Lets round the age variable to two decimal palces\n",
        "cars['Age'] = round(cars['Age'],2)"
      ],
      "execution_count": 0,
      "outputs": []
    },
    {
      "cell_type": "code",
      "metadata": {
        "id": "taj3p4Hp8KxY",
        "colab_type": "code",
        "colab": {
          "base_uri": "https://localhost:8080/",
          "height": 456
        },
        "outputId": "4306276d-6dd3-48d2-934f-33cee30ee8f9"
      },
      "source": [
        "cars"
      ],
      "execution_count": 44,
      "outputs": [
        {
          "output_type": "execute_result",
          "data": {
            "text/html": [
              "<div>\n",
              "<style scoped>\n",
              "    .dataframe tbody tr th:only-of-type {\n",
              "        vertical-align: middle;\n",
              "    }\n",
              "\n",
              "    .dataframe tbody tr th {\n",
              "        vertical-align: top;\n",
              "    }\n",
              "\n",
              "    .dataframe thead th {\n",
              "        text-align: right;\n",
              "    }\n",
              "</style>\n",
              "<table border=\"1\" class=\"dataframe\">\n",
              "  <thead>\n",
              "    <tr style=\"text-align: right;\">\n",
              "      <th></th>\n",
              "      <th>seller</th>\n",
              "      <th>offerType</th>\n",
              "      <th>price</th>\n",
              "      <th>abtest</th>\n",
              "      <th>vehicleType</th>\n",
              "      <th>yearOfRegistration</th>\n",
              "      <th>gearbox</th>\n",
              "      <th>powerPS</th>\n",
              "      <th>model</th>\n",
              "      <th>kilometer</th>\n",
              "      <th>monthOfRegistration</th>\n",
              "      <th>fuelType</th>\n",
              "      <th>brand</th>\n",
              "      <th>notRepairedDamage</th>\n",
              "      <th>Age</th>\n",
              "    </tr>\n",
              "  </thead>\n",
              "  <tbody>\n",
              "    <tr>\n",
              "      <th>0</th>\n",
              "      <td>private</td>\n",
              "      <td>offer</td>\n",
              "      <td>4450</td>\n",
              "      <td>test</td>\n",
              "      <td>limousine</td>\n",
              "      <td>2003</td>\n",
              "      <td>manual</td>\n",
              "      <td>150</td>\n",
              "      <td>3er</td>\n",
              "      <td>150000</td>\n",
              "      <td>0.250</td>\n",
              "      <td>diesel</td>\n",
              "      <td>bmw</td>\n",
              "      <td>NaN</td>\n",
              "      <td>15.250</td>\n",
              "    </tr>\n",
              "    <tr>\n",
              "      <th>1</th>\n",
              "      <td>private</td>\n",
              "      <td>offer</td>\n",
              "      <td>13299</td>\n",
              "      <td>control</td>\n",
              "      <td>suv</td>\n",
              "      <td>2005</td>\n",
              "      <td>manual</td>\n",
              "      <td>163</td>\n",
              "      <td>xc_reihe</td>\n",
              "      <td>150000</td>\n",
              "      <td>0.500</td>\n",
              "      <td>diesel</td>\n",
              "      <td>volvo</td>\n",
              "      <td>no</td>\n",
              "      <td>13.500</td>\n",
              "    </tr>\n",
              "    <tr>\n",
              "      <th>2</th>\n",
              "      <td>private</td>\n",
              "      <td>offer</td>\n",
              "      <td>3200</td>\n",
              "      <td>test</td>\n",
              "      <td>bus</td>\n",
              "      <td>2003</td>\n",
              "      <td>manual</td>\n",
              "      <td>101</td>\n",
              "      <td>touran</td>\n",
              "      <td>150000</td>\n",
              "      <td>0.917</td>\n",
              "      <td>diesel</td>\n",
              "      <td>volkswagen</td>\n",
              "      <td>NaN</td>\n",
              "      <td>15.920</td>\n",
              "    </tr>\n",
              "    <tr>\n",
              "      <th>3</th>\n",
              "      <td>private</td>\n",
              "      <td>offer</td>\n",
              "      <td>4500</td>\n",
              "      <td>control</td>\n",
              "      <td>small car</td>\n",
              "      <td>2006</td>\n",
              "      <td>manual</td>\n",
              "      <td>86</td>\n",
              "      <td>ibiza</td>\n",
              "      <td>60000</td>\n",
              "      <td>1.000</td>\n",
              "      <td>petrol</td>\n",
              "      <td>seat</td>\n",
              "      <td>no</td>\n",
              "      <td>13.000</td>\n",
              "    </tr>\n",
              "    <tr>\n",
              "      <th>4</th>\n",
              "      <td>private</td>\n",
              "      <td>offer</td>\n",
              "      <td>18750</td>\n",
              "      <td>test</td>\n",
              "      <td>suv</td>\n",
              "      <td>2008</td>\n",
              "      <td>automatic</td>\n",
              "      <td>185</td>\n",
              "      <td>xc_reihe</td>\n",
              "      <td>150000</td>\n",
              "      <td>0.917</td>\n",
              "      <td>diesel</td>\n",
              "      <td>volvo</td>\n",
              "      <td>no</td>\n",
              "      <td>10.920</td>\n",
              "    </tr>\n",
              "    <tr>\n",
              "      <th>...</th>\n",
              "      <td>...</td>\n",
              "      <td>...</td>\n",
              "      <td>...</td>\n",
              "      <td>...</td>\n",
              "      <td>...</td>\n",
              "      <td>...</td>\n",
              "      <td>...</td>\n",
              "      <td>...</td>\n",
              "      <td>...</td>\n",
              "      <td>...</td>\n",
              "      <td>...</td>\n",
              "      <td>...</td>\n",
              "      <td>...</td>\n",
              "      <td>...</td>\n",
              "      <td>...</td>\n",
              "    </tr>\n",
              "    <tr>\n",
              "      <th>49991</th>\n",
              "      <td>private</td>\n",
              "      <td>offer</td>\n",
              "      <td>10900</td>\n",
              "      <td>test</td>\n",
              "      <td>limousine</td>\n",
              "      <td>2004</td>\n",
              "      <td>manual</td>\n",
              "      <td>231</td>\n",
              "      <td>x_reihe</td>\n",
              "      <td>150000</td>\n",
              "      <td>0.667</td>\n",
              "      <td>petrol</td>\n",
              "      <td>bmw</td>\n",
              "      <td>no</td>\n",
              "      <td>14.670</td>\n",
              "    </tr>\n",
              "    <tr>\n",
              "      <th>49992</th>\n",
              "      <td>private</td>\n",
              "      <td>offer</td>\n",
              "      <td>790</td>\n",
              "      <td>test</td>\n",
              "      <td>limousine</td>\n",
              "      <td>1998</td>\n",
              "      <td>manual</td>\n",
              "      <td>82</td>\n",
              "      <td>astra</td>\n",
              "      <td>150000</td>\n",
              "      <td>0.750</td>\n",
              "      <td>diesel</td>\n",
              "      <td>opel</td>\n",
              "      <td>no</td>\n",
              "      <td>20.750</td>\n",
              "    </tr>\n",
              "    <tr>\n",
              "      <th>49993</th>\n",
              "      <td>private</td>\n",
              "      <td>offer</td>\n",
              "      <td>830</td>\n",
              "      <td>test</td>\n",
              "      <td>small car</td>\n",
              "      <td>1999</td>\n",
              "      <td>manual</td>\n",
              "      <td>60</td>\n",
              "      <td>clio</td>\n",
              "      <td>125000</td>\n",
              "      <td>0.667</td>\n",
              "      <td>petrol</td>\n",
              "      <td>renault</td>\n",
              "      <td>no</td>\n",
              "      <td>19.670</td>\n",
              "    </tr>\n",
              "    <tr>\n",
              "      <th>49995</th>\n",
              "      <td>private</td>\n",
              "      <td>offer</td>\n",
              "      <td>2290</td>\n",
              "      <td>test</td>\n",
              "      <td>station wagon</td>\n",
              "      <td>2001</td>\n",
              "      <td>manual</td>\n",
              "      <td>101</td>\n",
              "      <td>astra</td>\n",
              "      <td>150000</td>\n",
              "      <td>0.250</td>\n",
              "      <td>petrol</td>\n",
              "      <td>opel</td>\n",
              "      <td>no</td>\n",
              "      <td>17.250</td>\n",
              "    </tr>\n",
              "    <tr>\n",
              "      <th>50000</th>\n",
              "      <td>commercial</td>\n",
              "      <td>offer</td>\n",
              "      <td>1100</td>\n",
              "      <td>test</td>\n",
              "      <td>small car</td>\n",
              "      <td>2006</td>\n",
              "      <td>manual</td>\n",
              "      <td>38</td>\n",
              "      <td>matiz</td>\n",
              "      <td>150000</td>\n",
              "      <td>0.833</td>\n",
              "      <td>petrol</td>\n",
              "      <td>chevrolet</td>\n",
              "      <td>no</td>\n",
              "      <td>12.830</td>\n",
              "    </tr>\n",
              "  </tbody>\n",
              "</table>\n",
              "<p>42772 rows × 15 columns</p>\n",
              "</div>"
            ],
            "text/plain": [
              "           seller offerType  price   abtest    vehicleType  \\\n",
              "0         private     offer   4450     test      limousine   \n",
              "1         private     offer  13299  control            suv   \n",
              "2         private     offer   3200     test            bus   \n",
              "3         private     offer   4500  control      small car   \n",
              "4         private     offer  18750     test            suv   \n",
              "...           ...       ...    ...      ...            ...   \n",
              "49991     private     offer  10900     test      limousine   \n",
              "49992     private     offer    790     test      limousine   \n",
              "49993     private     offer    830     test      small car   \n",
              "49995     private     offer   2290     test  station wagon   \n",
              "50000  commercial     offer   1100     test      small car   \n",
              "\n",
              "       yearOfRegistration    gearbox  powerPS     model  kilometer  \\\n",
              "0                    2003     manual      150       3er     150000   \n",
              "1                    2005     manual      163  xc_reihe     150000   \n",
              "2                    2003     manual      101    touran     150000   \n",
              "3                    2006     manual       86     ibiza      60000   \n",
              "4                    2008  automatic      185  xc_reihe     150000   \n",
              "...                   ...        ...      ...       ...        ...   \n",
              "49991                2004     manual      231   x_reihe     150000   \n",
              "49992                1998     manual       82     astra     150000   \n",
              "49993                1999     manual       60      clio     125000   \n",
              "49995                2001     manual      101     astra     150000   \n",
              "50000                2006     manual       38     matiz     150000   \n",
              "\n",
              "       monthOfRegistration fuelType       brand notRepairedDamage    Age  \n",
              "0                    0.250   diesel         bmw               NaN 15.250  \n",
              "1                    0.500   diesel       volvo                no 13.500  \n",
              "2                    0.917   diesel  volkswagen               NaN 15.920  \n",
              "3                    1.000   petrol        seat                no 13.000  \n",
              "4                    0.917   diesel       volvo                no 10.920  \n",
              "...                    ...      ...         ...               ...    ...  \n",
              "49991                0.667   petrol         bmw                no 14.670  \n",
              "49992                0.750   diesel        opel                no 20.750  \n",
              "49993                0.667   petrol     renault                no 19.670  \n",
              "49995                0.250   petrol        opel                no 17.250  \n",
              "50000                0.833   petrol   chevrolet                no 12.830  \n",
              "\n",
              "[42772 rows x 15 columns]"
            ]
          },
          "metadata": {
            "tags": []
          },
          "execution_count": 44
        }
      ]
    },
    {
      "cell_type": "code",
      "metadata": {
        "id": "oT1NmcH88Mx4",
        "colab_type": "code",
        "colab": {
          "base_uri": "https://localhost:8080/",
          "height": 170
        },
        "outputId": "682b319d-a376-40ff-cd3e-43885fff9156"
      },
      "source": [
        "cars['Age'].describe()"
      ],
      "execution_count": 45,
      "outputs": [
        {
          "output_type": "execute_result",
          "data": {
            "text/plain": [
              "count   42772.000\n",
              "mean       14.873\n",
              "std         7.093\n",
              "min         0.000\n",
              "25%        10.330\n",
              "50%        14.830\n",
              "75%        19.170\n",
              "max        67.750\n",
              "Name: Age, dtype: float64"
            ]
          },
          "metadata": {
            "tags": []
          },
          "execution_count": 45
        }
      ]
    },
    {
      "cell_type": "markdown",
      "metadata": {
        "id": "ECP2S7Z-8VaA",
        "colab_type": "text"
      },
      "source": [
        "# lets drop yearOfRegistration and monthOfRegistration"
      ]
    },
    {
      "cell_type": "code",
      "metadata": {
        "id": "2V2X3chx8s9g",
        "colab_type": "code",
        "colab": {}
      },
      "source": [
        "cars = cars.drop(columns=['yearOfRegistration','monthOfRegistration'], axis=1)"
      ],
      "execution_count": 0,
      "outputs": []
    },
    {
      "cell_type": "code",
      "metadata": {
        "id": "ZKbWGzvO85j4",
        "colab_type": "code",
        "colab": {
          "base_uri": "https://localhost:8080/",
          "height": 323
        },
        "outputId": "d05a3408-dd8e-49d3-8fb1-3024a868633f"
      },
      "source": [
        "cars.info()"
      ],
      "execution_count": 47,
      "outputs": [
        {
          "output_type": "stream",
          "text": [
            "<class 'pandas.core.frame.DataFrame'>\n",
            "Int64Index: 42772 entries, 0 to 50000\n",
            "Data columns (total 13 columns):\n",
            "seller               42772 non-null object\n",
            "offerType            42772 non-null object\n",
            "price                42772 non-null int64\n",
            "abtest               42772 non-null object\n",
            "vehicleType          39896 non-null object\n",
            "gearbox              41978 non-null object\n",
            "powerPS              42772 non-null int64\n",
            "model                41089 non-null object\n",
            "kilometer            42772 non-null int64\n",
            "fuelType             40175 non-null object\n",
            "brand                42772 non-null object\n",
            "notRepairedDamage    36495 non-null object\n",
            "Age                  42772 non-null float64\n",
            "dtypes: float64(1), int64(3), object(9)\n",
            "memory usage: 4.6+ MB\n"
          ],
          "name": "stdout"
        }
      ]
    },
    {
      "cell_type": "markdown",
      "metadata": {
        "id": "GAjauBCl87Qw",
        "colab_type": "text"
      },
      "source": [
        "# **Visualization of Parameters:-**"
      ]
    },
    {
      "cell_type": "markdown",
      "metadata": {
        "id": "fdz3vLcx9vYr",
        "colab_type": "text"
      },
      "source": [
        "## **Age:-**"
      ]
    },
    {
      "cell_type": "code",
      "metadata": {
        "id": "LpvdQ8oW9P_v",
        "colab_type": "code",
        "colab": {
          "base_uri": "https://localhost:8080/",
          "height": 534
        },
        "outputId": "2bcbc806-008b-4477-aeda-32f40e2f214b"
      },
      "source": [
        "sns.distplot(cars['Age'])"
      ],
      "execution_count": 48,
      "outputs": [
        {
          "output_type": "execute_result",
          "data": {
            "text/plain": [
              "<matplotlib.axes._subplots.AxesSubplot at 0x7f2e66b30240>"
            ]
          },
          "metadata": {
            "tags": []
          },
          "execution_count": 48
        },
        {
          "output_type": "display_data",
          "data": {
            "image/png": "[encoded data removed]",
            "text/plain": [
              "<Figure size 842.4x595.44 with 1 Axes>"
            ]
          },
          "metadata": {
            "tags": []
          }
        }
      ]
    },
    {
      "cell_type": "code",
      "metadata": {
        "id": "LoVMmVJW9Xnf",
        "colab_type": "code",
        "colab": {
          "base_uri": "https://localhost:8080/",
          "height": 497
        },
        "outputId": "548a9d3c-ade3-427d-baf4-459ea9b5fb13"
      },
      "source": [
        "sns.boxplot(y=cars['Age'])"
      ],
      "execution_count": 49,
      "outputs": [
        {
          "output_type": "execute_result",
          "data": {
            "text/plain": [
              "<matplotlib.axes._subplots.AxesSubplot at 0x7f2e66a8b4e0>"
            ]
          },
          "metadata": {
            "tags": []
          },
          "execution_count": 49
        },
        {
          "output_type": "display_data",
          "data": {
            "image/png": "[encoded data removed]",
            "text/plain": [
              "<Figure size 842.4x595.44 with 1 Axes>"
            ]
          },
          "metadata": {
            "tags": []
          }
        }
      ]
    },
    {
      "cell_type": "markdown",
      "metadata": {
        "id": "vs3o6zzh9o43",
        "colab_type": "text"
      },
      "source": [
        "## **Price:-**"
      ]
    },
    {
      "cell_type": "code",
      "metadata": {
        "id": "xLLAlfga-IhN",
        "colab_type": "code",
        "colab": {
          "base_uri": "https://localhost:8080/",
          "height": 534
        },
        "outputId": "0ab6fee1-7c46-4d4e-b57c-a0cabb450bc0"
      },
      "source": [
        "sns.distplot(cars['price'])"
      ],
      "execution_count": 50,
      "outputs": [
        {
          "output_type": "execute_result",
          "data": {
            "text/plain": [
              "<matplotlib.axes._subplots.AxesSubplot at 0x7f2e66a5f4e0>"
            ]
          },
          "metadata": {
            "tags": []
          },
          "execution_count": 50
        },
        {
          "output_type": "display_data",
          "data": {
            "image/png": "[encoded data removed]",
            "text/plain": [
              "<Figure size 842.4x595.44 with 1 Axes>"
            ]
          },
          "metadata": {
            "tags": []
          }
        }
      ]
    },
    {
      "cell_type": "code",
      "metadata": {
        "id": "O2KIWj0u-PEu",
        "colab_type": "code",
        "colab": {
          "base_uri": "https://localhost:8080/",
          "height": 497
        },
        "outputId": "a7716956-2604-48d9-a2e5-c15a121afa68"
      },
      "source": [
        "sns.boxplot(y=cars['price'])"
      ],
      "execution_count": 51,
      "outputs": [
        {
          "output_type": "execute_result",
          "data": {
            "text/plain": [
              "<matplotlib.axes._subplots.AxesSubplot at 0x7f2e6694e668>"
            ]
          },
          "metadata": {
            "tags": []
          },
          "execution_count": 51
        },
        {
          "output_type": "display_data",
          "data": {
            "image/png": "[encoded data removed]",
            "text/plain": [
              "<Figure size 842.4x595.44 with 1 Axes>"
            ]
          },
          "metadata": {
            "tags": []
          }
        }
      ]
    },
    {
      "cell_type": "markdown",
      "metadata": {
        "id": "fHDuxk86-U11",
        "colab_type": "text"
      },
      "source": [
        "## **powerPS:-**"
      ]
    },
    {
      "cell_type": "code",
      "metadata": {
        "id": "0oQY5MB0-mqc",
        "colab_type": "code",
        "colab": {
          "base_uri": "https://localhost:8080/",
          "height": 534
        },
        "outputId": "ebf73a09-471b-423c-ec9f-93c9ae7f644b"
      },
      "source": [
        "sns.distplot(cars['powerPS'])"
      ],
      "execution_count": 52,
      "outputs": [
        {
          "output_type": "execute_result",
          "data": {
            "text/plain": [
              "<matplotlib.axes._subplots.AxesSubplot at 0x7f2e668c6cc0>"
            ]
          },
          "metadata": {
            "tags": []
          },
          "execution_count": 52
        },
        {
          "output_type": "display_data",
          "data": {
            "image/png": "[encoded data removed]",
            "text/plain": [
              "<Figure size 842.4x595.44 with 1 Axes>"
            ]
          },
          "metadata": {
            "tags": []
          }
        }
      ]
    },
    {
      "cell_type": "code",
      "metadata": {
        "id": "tsUzEzT0-0DV",
        "colab_type": "code",
        "colab": {
          "base_uri": "https://localhost:8080/",
          "height": 497
        },
        "outputId": "218d640f-625a-4952-965c-aaa2aa7404a7"
      },
      "source": [
        "sns.boxplot(y=cars['powerPS'])"
      ],
      "execution_count": 53,
      "outputs": [
        {
          "output_type": "execute_result",
          "data": {
            "text/plain": [
              "<matplotlib.axes._subplots.AxesSubplot at 0x7f2e66855198>"
            ]
          },
          "metadata": {
            "tags": []
          },
          "execution_count": 53
        },
        {
          "output_type": "display_data",
          "data": {
            "image/png": "[encoded data removed]",
            "text/plain": [
              "<Figure size 842.4x595.44 with 1 Axes>"
            ]
          },
          "metadata": {
            "tags": []
          }
        }
      ]
    },
    {
      "cell_type": "code",
      "metadata": {
        "id": "D-f5CKZe-8dV",
        "colab_type": "code",
        "colab": {}
      },
      "source": [
        "#Time Stamp:- 08:08"
      ],
      "execution_count": 0,
      "outputs": []
    }
  ]
}