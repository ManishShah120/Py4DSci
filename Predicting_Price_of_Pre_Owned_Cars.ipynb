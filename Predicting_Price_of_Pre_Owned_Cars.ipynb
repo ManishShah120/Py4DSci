{
  "nbformat": 4,
  "nbformat_minor": 0,
  "metadata": {
    "colab": {
      "name": "Predicting_Price_of_Pre-Owned_Cars.ipynb",
      "provenance": [],
      "collapsed_sections": [],
      "authorship_tag": "ABX9TyPhQkS7WA2h7V4j1kRp9ptK",
      "include_colab_link": true
    },
    "kernelspec": {
      "name": "python3",
      "display_name": "Python 3"
    }
  },
  "cells": [
    {
      "cell_type": "markdown",
      "metadata": {
        "id": "view-in-github",
        "colab_type": "text"
      },
      "source": [
        "<a href=\"https://colab.research.google.com/github/ManishShah120/Py4DSci/blob/master/Predicting_Price_of_Pre_Owned_Cars.ipynb\" target=\"_parent\"><img src=\"https://colab.research.google.com/assets/colab-badge.svg\" alt=\"Open In Colab\"/></a>"
      ]
    },
    {
      "cell_type": "markdown",
      "metadata": {
        "id": "gN_IGkz1QwvI",
        "colab_type": "text"
      },
      "source": [
        "#  **Problem Statement:**\n",
        "\n",
        "## Storm Motors is an e-commerce company who act as mediators between parties interested in selling and buying pre-owned cars.\n",
        "\n",
        "## For the year 2015-2016, they have recorded data about the seller and car including:-\n",
        "*   Specification details\n",
        "*   Condition of car\n",
        "*   Seller details\n",
        "*   Registration details\n",
        "*   Web advertisement details\n",
        "*   Make and model information\n",
        "*   Price\n",
        "\n",
        "## Storm Motors wishes to **develop an algorithm to predict the price of the cars based on various attributes associated with the car.**"
      ]
    },
    {
      "cell_type": "markdown",
      "metadata": {
        "id": "CQDzntJPTbNS",
        "colab_type": "text"
      },
      "source": [
        "# **Framework:**\n",
        "## Solution Conceptualization\n",
        "*   Identify if data is clean\n",
        "*   Look for missing values\n",
        "*   Identify variables influencing price and look for relationships among  variables\n",
        "> *    Correlation,box plots, scatter plots etc\n",
        "*   Identify outliers\n",
        "> *    Central tendency measures, dispersion measures, box plots, histograms etc.\n",
        "*   Identify if categories with merge frequesncies can be combined.\n",
        "*   Filter data based on logical checks\n",
        ">   *    Price, year of registration, power\n",
        "*   Reduced number of data\n",
        "*   Method identification\n",
        ">   *    Linear regression\n",
        ">   *    Random forest"
      ]
    },
    {
      "cell_type": "code",
      "metadata": {
        "id": "nVnA-ijuYn2n",
        "colab_type": "code",
        "colab": {}
      },
      "source": [
        "import pandas as pd #For reading files as dataframe from csv format\n",
        "import numpy as np #For performing various numerical operations\n",
        "import seaborn as sns #For visulaization "
      ],
      "execution_count": 0,
      "outputs": []
    },
    {
      "cell_type": "code",
      "metadata": {
        "id": "mc3OCTKwciPg",
        "colab_type": "code",
        "colab": {
          "base_uri": "https://localhost:8080/",
          "height": 34
        },
        "outputId": "2b3e2e75-47f8-47d7-8c09-8e535b678169"
      },
      "source": [
        "from google.colab import drive # For reading the files from google drive\n",
        "drive.mount('/content/drive')"
      ],
      "execution_count": 4,
      "outputs": [
        {
          "output_type": "stream",
          "text": [
            "Drive already mounted at /content/drive; to attempt to forcibly remount, call drive.mount(\"/content/drive\", force_remount=True).\n"
          ],
          "name": "stdout"
        }
      ]
    },
    {
      "cell_type": "markdown",
      "metadata": {
        "id": "nxjNdjv5cqH9",
        "colab_type": "text"
      },
      "source": [
        "#### Setting dimensions for plot"
      ]
    },
    {
      "cell_type": "code",
      "metadata": {
        "id": "saee5aCFc_Y7",
        "colab_type": "code",
        "colab": {}
      },
      "source": [
        "sns.set(rc={'figure.figsize':(11.7,8.27)}) # set is function from seabormn package\n",
        "## The above line Of Code(LOC) will set the dimensions for all our plots"
      ],
      "execution_count": 0,
      "outputs": []
    },
    {
      "cell_type": "markdown",
      "metadata": {
        "id": "7eKjjAhIdP7r",
        "colab_type": "text"
      },
      "source": [
        "## Reading the CSV file"
      ]
    },
    {
      "cell_type": "code",
      "metadata": {
        "id": "kNSuW395eJPF",
        "colab_type": "code",
        "colab": {}
      },
      "source": [
        "cars_data = pd.read_csv('/content/drive/My Drive/Colab Notebooks/cars_sampled.csv')"
      ],
      "execution_count": 0,
      "outputs": []
    },
    {
      "cell_type": "code",
      "metadata": {
        "id": "PDM6kDf1ecTE",
        "colab_type": "code",
        "colab": {
          "base_uri": "https://localhost:8080/",
          "height": 609
        },
        "outputId": "5ea8f24c-a64b-4c3c-cfb2-56778216d0fa"
      },
      "source": [
        "cars_data"
      ],
      "execution_count": 8,
      "outputs": [
        {
          "output_type": "execute_result",
          "data": {
            "text/html": [
              "<div>\n",
              "<style scoped>\n",
              "    .dataframe tbody tr th:only-of-type {\n",
              "        vertical-align: middle;\n",
              "    }\n",
              "\n",
              "    .dataframe tbody tr th {\n",
              "        vertical-align: top;\n",
              "    }\n",
              "\n",
              "    .dataframe thead th {\n",
              "        text-align: right;\n",
              "    }\n",
              "</style>\n",
              "<table border=\"1\" class=\"dataframe\">\n",
              "  <thead>\n",
              "    <tr style=\"text-align: right;\">\n",
              "      <th></th>\n",
              "      <th>dateCrawled</th>\n",
              "      <th>name</th>\n",
              "      <th>seller</th>\n",
              "      <th>offerType</th>\n",
              "      <th>price</th>\n",
              "      <th>abtest</th>\n",
              "      <th>vehicleType</th>\n",
              "      <th>yearOfRegistration</th>\n",
              "      <th>gearbox</th>\n",
              "      <th>powerPS</th>\n",
              "      <th>model</th>\n",
              "      <th>kilometer</th>\n",
              "      <th>monthOfRegistration</th>\n",
              "      <th>fuelType</th>\n",
              "      <th>brand</th>\n",
              "      <th>notRepairedDamage</th>\n",
              "      <th>dateCreated</th>\n",
              "      <th>postalCode</th>\n",
              "      <th>lastSeen</th>\n",
              "    </tr>\n",
              "  </thead>\n",
              "  <tbody>\n",
              "    <tr>\n",
              "      <th>0</th>\n",
              "      <td>30/03/2016 13:51</td>\n",
              "      <td>Zu_verkaufen</td>\n",
              "      <td>private</td>\n",
              "      <td>offer</td>\n",
              "      <td>4450</td>\n",
              "      <td>test</td>\n",
              "      <td>limousine</td>\n",
              "      <td>2003</td>\n",
              "      <td>manual</td>\n",
              "      <td>150</td>\n",
              "      <td>3er</td>\n",
              "      <td>150000</td>\n",
              "      <td>3</td>\n",
              "      <td>diesel</td>\n",
              "      <td>bmw</td>\n",
              "      <td>NaN</td>\n",
              "      <td>30/03/2016 0:00</td>\n",
              "      <td>20257</td>\n",
              "      <td>7/4/2016 4:44</td>\n",
              "    </tr>\n",
              "    <tr>\n",
              "      <th>1</th>\n",
              "      <td>7/3/2016 9:54</td>\n",
              "      <td>Volvo_XC90_2.4D_Summum</td>\n",
              "      <td>private</td>\n",
              "      <td>offer</td>\n",
              "      <td>13299</td>\n",
              "      <td>control</td>\n",
              "      <td>suv</td>\n",
              "      <td>2005</td>\n",
              "      <td>manual</td>\n",
              "      <td>163</td>\n",
              "      <td>xc_reihe</td>\n",
              "      <td>150000</td>\n",
              "      <td>6</td>\n",
              "      <td>diesel</td>\n",
              "      <td>volvo</td>\n",
              "      <td>no</td>\n",
              "      <td>7/3/2016 0:00</td>\n",
              "      <td>88045</td>\n",
              "      <td>26/03/2016 13:17</td>\n",
              "    </tr>\n",
              "    <tr>\n",
              "      <th>2</th>\n",
              "      <td>1/4/2016 0:57</td>\n",
              "      <td>Volkswagen_Touran</td>\n",
              "      <td>private</td>\n",
              "      <td>offer</td>\n",
              "      <td>3200</td>\n",
              "      <td>test</td>\n",
              "      <td>bus</td>\n",
              "      <td>2003</td>\n",
              "      <td>manual</td>\n",
              "      <td>101</td>\n",
              "      <td>touran</td>\n",
              "      <td>150000</td>\n",
              "      <td>11</td>\n",
              "      <td>diesel</td>\n",
              "      <td>volkswagen</td>\n",
              "      <td>NaN</td>\n",
              "      <td>31/03/2016 0:00</td>\n",
              "      <td>27449</td>\n",
              "      <td>1/4/2016 8:40</td>\n",
              "    </tr>\n",
              "    <tr>\n",
              "      <th>3</th>\n",
              "      <td>19/03/2016 17:50</td>\n",
              "      <td>Seat_Ibiza_1.4_16V_Reference</td>\n",
              "      <td>private</td>\n",
              "      <td>offer</td>\n",
              "      <td>4500</td>\n",
              "      <td>control</td>\n",
              "      <td>small car</td>\n",
              "      <td>2006</td>\n",
              "      <td>manual</td>\n",
              "      <td>86</td>\n",
              "      <td>ibiza</td>\n",
              "      <td>60000</td>\n",
              "      <td>12</td>\n",
              "      <td>petrol</td>\n",
              "      <td>seat</td>\n",
              "      <td>no</td>\n",
              "      <td>19/03/2016 0:00</td>\n",
              "      <td>34537</td>\n",
              "      <td>7/4/2016 4:44</td>\n",
              "    </tr>\n",
              "    <tr>\n",
              "      <th>4</th>\n",
              "      <td>16/03/2016 14:51</td>\n",
              "      <td>Volvo_XC90_D5_Aut._RDesign_R_Design_AWD_GSHD_S...</td>\n",
              "      <td>private</td>\n",
              "      <td>offer</td>\n",
              "      <td>18750</td>\n",
              "      <td>test</td>\n",
              "      <td>suv</td>\n",
              "      <td>2008</td>\n",
              "      <td>automatic</td>\n",
              "      <td>185</td>\n",
              "      <td>xc_reihe</td>\n",
              "      <td>150000</td>\n",
              "      <td>11</td>\n",
              "      <td>diesel</td>\n",
              "      <td>volvo</td>\n",
              "      <td>no</td>\n",
              "      <td>16/03/2016 0:00</td>\n",
              "      <td>55270</td>\n",
              "      <td>1/4/2016 23:18</td>\n",
              "    </tr>\n",
              "    <tr>\n",
              "      <th>...</th>\n",
              "      <td>...</td>\n",
              "      <td>...</td>\n",
              "      <td>...</td>\n",
              "      <td>...</td>\n",
              "      <td>...</td>\n",
              "      <td>...</td>\n",
              "      <td>...</td>\n",
              "      <td>...</td>\n",
              "      <td>...</td>\n",
              "      <td>...</td>\n",
              "      <td>...</td>\n",
              "      <td>...</td>\n",
              "      <td>...</td>\n",
              "      <td>...</td>\n",
              "      <td>...</td>\n",
              "      <td>...</td>\n",
              "      <td>...</td>\n",
              "      <td>...</td>\n",
              "      <td>...</td>\n",
              "    </tr>\n",
              "    <tr>\n",
              "      <th>49996</th>\n",
              "      <td>3/4/2016 15:48</td>\n",
              "      <td>Suche_VW_T5_Multivan</td>\n",
              "      <td>private</td>\n",
              "      <td>request</td>\n",
              "      <td>0</td>\n",
              "      <td>test</td>\n",
              "      <td>bus</td>\n",
              "      <td>2005</td>\n",
              "      <td>NaN</td>\n",
              "      <td>0</td>\n",
              "      <td>transporter</td>\n",
              "      <td>150000</td>\n",
              "      <td>0</td>\n",
              "      <td>NaN</td>\n",
              "      <td>volkswagen</td>\n",
              "      <td>NaN</td>\n",
              "      <td>3/4/2016 0:00</td>\n",
              "      <td>29690</td>\n",
              "      <td>5/4/2016 15:16</td>\n",
              "    </tr>\n",
              "    <tr>\n",
              "      <th>49997</th>\n",
              "      <td>27/03/2016 14:55</td>\n",
              "      <td>Suche_einen_originalen_VW_Golf_2_Fire_and_Ice_G60</td>\n",
              "      <td>private</td>\n",
              "      <td>request</td>\n",
              "      <td>19999</td>\n",
              "      <td>control</td>\n",
              "      <td>NaN</td>\n",
              "      <td>1990</td>\n",
              "      <td>NaN</td>\n",
              "      <td>0</td>\n",
              "      <td>golf</td>\n",
              "      <td>5000</td>\n",
              "      <td>0</td>\n",
              "      <td>NaN</td>\n",
              "      <td>volkswagen</td>\n",
              "      <td>NaN</td>\n",
              "      <td>27/03/2016 0:00</td>\n",
              "      <td>50181</td>\n",
              "      <td>7/4/2016 11:45</td>\n",
              "    </tr>\n",
              "    <tr>\n",
              "      <th>49998</th>\n",
              "      <td>14/03/2016 18:51</td>\n",
              "      <td>[SUCHE]_BMW_e46_Coupe_330ci_M_Paket_Facelift__...</td>\n",
              "      <td>private</td>\n",
              "      <td>request</td>\n",
              "      <td>0</td>\n",
              "      <td>test</td>\n",
              "      <td>coupe</td>\n",
              "      <td>2004</td>\n",
              "      <td>manual</td>\n",
              "      <td>0</td>\n",
              "      <td>3er</td>\n",
              "      <td>150000</td>\n",
              "      <td>1</td>\n",
              "      <td>petrol</td>\n",
              "      <td>bmw</td>\n",
              "      <td>no</td>\n",
              "      <td>14/03/2016 0:00</td>\n",
              "      <td>86956</td>\n",
              "      <td>25/03/2016 6:17</td>\n",
              "    </tr>\n",
              "    <tr>\n",
              "      <th>49999</th>\n",
              "      <td>15/03/2016 18:06</td>\n",
              "      <td>Verkaufe_mehrere_Fahrzeuge_zum_Verschrotten</td>\n",
              "      <td>commercial</td>\n",
              "      <td>offer</td>\n",
              "      <td>100</td>\n",
              "      <td>control</td>\n",
              "      <td>station wagon</td>\n",
              "      <td>2000</td>\n",
              "      <td>manual</td>\n",
              "      <td>0</td>\n",
              "      <td>megane</td>\n",
              "      <td>150000</td>\n",
              "      <td>8</td>\n",
              "      <td>petrol</td>\n",
              "      <td>renault</td>\n",
              "      <td>NaN</td>\n",
              "      <td>15/03/2016 0:00</td>\n",
              "      <td>65232</td>\n",
              "      <td>6/4/2016 17:15</td>\n",
              "    </tr>\n",
              "    <tr>\n",
              "      <th>50000</th>\n",
              "      <td>22/03/2016 9:54</td>\n",
              "      <td>Chevrolet_Matiz_1.Hd_TÜV11/2017</td>\n",
              "      <td>commercial</td>\n",
              "      <td>offer</td>\n",
              "      <td>1100</td>\n",
              "      <td>test</td>\n",
              "      <td>small car</td>\n",
              "      <td>2006</td>\n",
              "      <td>manual</td>\n",
              "      <td>38</td>\n",
              "      <td>matiz</td>\n",
              "      <td>150000</td>\n",
              "      <td>10</td>\n",
              "      <td>petrol</td>\n",
              "      <td>chevrolet</td>\n",
              "      <td>no</td>\n",
              "      <td>22/03/2016 0:00</td>\n",
              "      <td>7973</td>\n",
              "      <td>5/4/2016 21:15</td>\n",
              "    </tr>\n",
              "  </tbody>\n",
              "</table>\n",
              "<p>50001 rows × 19 columns</p>\n",
              "</div>"
            ],
            "text/plain": [
              "            dateCrawled  ...          lastSeen\n",
              "0      30/03/2016 13:51  ...     7/4/2016 4:44\n",
              "1         7/3/2016 9:54  ...  26/03/2016 13:17\n",
              "2         1/4/2016 0:57  ...     1/4/2016 8:40\n",
              "3      19/03/2016 17:50  ...     7/4/2016 4:44\n",
              "4      16/03/2016 14:51  ...    1/4/2016 23:18\n",
              "...                 ...  ...               ...\n",
              "49996    3/4/2016 15:48  ...    5/4/2016 15:16\n",
              "49997  27/03/2016 14:55  ...    7/4/2016 11:45\n",
              "49998  14/03/2016 18:51  ...   25/03/2016 6:17\n",
              "49999  15/03/2016 18:06  ...    6/4/2016 17:15\n",
              "50000   22/03/2016 9:54  ...    5/4/2016 21:15\n",
              "\n",
              "[50001 rows x 19 columns]"
            ]
          },
          "metadata": {
            "tags": []
          },
          "execution_count": 8
        }
      ]
    },
    {
      "cell_type": "markdown",
      "metadata": {
        "id": "mN3_G6gKep_5",
        "colab_type": "text"
      },
      "source": [
        "### Creating copy"
      ]
    },
    {
      "cell_type": "code",
      "metadata": {
        "id": "iG_3_rSue3U7",
        "colab_type": "code",
        "colab": {}
      },
      "source": [
        "cars = cars_data.copy() # This is known as deep copy i.e., any changes  made in the cars will not replect in cars_data"
      ],
      "execution_count": 0,
      "outputs": []
    },
    {
      "cell_type": "markdown",
      "metadata": {
        "id": "ItAcnI6Se63V",
        "colab_type": "text"
      },
      "source": [
        "### Structure of the dataset"
      ]
    },
    {
      "cell_type": "code",
      "metadata": {
        "id": "5T67UydofWjA",
        "colab_type": "code",
        "colab": {
          "base_uri": "https://localhost:8080/",
          "height": 425
        },
        "outputId": "2b527f5c-63b8-457d-fec2-fd06be50781b"
      },
      "source": [
        "cars.info()"
      ],
      "execution_count": 12,
      "outputs": [
        {
          "output_type": "stream",
          "text": [
            "<class 'pandas.core.frame.DataFrame'>\n",
            "RangeIndex: 50001 entries, 0 to 50000\n",
            "Data columns (total 19 columns):\n",
            "dateCrawled            50001 non-null object\n",
            "name                   50001 non-null object\n",
            "seller                 50001 non-null object\n",
            "offerType              50001 non-null object\n",
            "price                  50001 non-null int64\n",
            "abtest                 50001 non-null object\n",
            "vehicleType            44813 non-null object\n",
            "yearOfRegistration     50001 non-null int64\n",
            "gearbox                47177 non-null object\n",
            "powerPS                50001 non-null int64\n",
            "model                  47243 non-null object\n",
            "kilometer              50001 non-null int64\n",
            "monthOfRegistration    50001 non-null int64\n",
            "fuelType               45498 non-null object\n",
            "brand                  50001 non-null object\n",
            "notRepairedDamage      40285 non-null object\n",
            "dateCreated            50001 non-null object\n",
            "postalCode             50001 non-null int64\n",
            "lastSeen               50001 non-null object\n",
            "dtypes: int64(6), object(13)\n",
            "memory usage: 7.2+ MB\n"
          ],
          "name": "stdout"
        }
      ]
    },
    {
      "cell_type": "markdown",
      "metadata": {
        "id": "biwwe1lgfjdD",
        "colab_type": "text"
      },
      "source": [
        "#### We see that there are 6 columns which are of int64 datatype and 13 columns which are of object datatype"
      ]
    },
    {
      "cell_type": "markdown",
      "metadata": {
        "id": "wzQW233OgGqR",
        "colab_type": "text"
      },
      "source": [
        "# Summarizing data"
      ]
    },
    {
      "cell_type": "code",
      "metadata": {
        "id": "ZqpUPOQUgTHT",
        "colab_type": "code",
        "colab": {
          "base_uri": "https://localhost:8080/",
          "height": 297
        },
        "outputId": "4d9a913a-161d-4b70-9ff8-ef76249211a2"
      },
      "source": [
        "cars.describe()"
      ],
      "execution_count": 14,
      "outputs": [
        {
          "output_type": "execute_result",
          "data": {
            "text/html": [
              "<div>\n",
              "<style scoped>\n",
              "    .dataframe tbody tr th:only-of-type {\n",
              "        vertical-align: middle;\n",
              "    }\n",
              "\n",
              "    .dataframe tbody tr th {\n",
              "        vertical-align: top;\n",
              "    }\n",
              "\n",
              "    .dataframe thead th {\n",
              "        text-align: right;\n",
              "    }\n",
              "</style>\n",
              "<table border=\"1\" class=\"dataframe\">\n",
              "  <thead>\n",
              "    <tr style=\"text-align: right;\">\n",
              "      <th></th>\n",
              "      <th>price</th>\n",
              "      <th>yearOfRegistration</th>\n",
              "      <th>powerPS</th>\n",
              "      <th>kilometer</th>\n",
              "      <th>monthOfRegistration</th>\n",
              "      <th>postalCode</th>\n",
              "    </tr>\n",
              "  </thead>\n",
              "  <tbody>\n",
              "    <tr>\n",
              "      <th>count</th>\n",
              "      <td>5.000100e+04</td>\n",
              "      <td>50001.000000</td>\n",
              "      <td>50001.000000</td>\n",
              "      <td>50001.000000</td>\n",
              "      <td>50001.000000</td>\n",
              "      <td>50001.000000</td>\n",
              "    </tr>\n",
              "    <tr>\n",
              "      <th>mean</th>\n",
              "      <td>6.559865e+03</td>\n",
              "      <td>2005.544229</td>\n",
              "      <td>116.496130</td>\n",
              "      <td>125613.687726</td>\n",
              "      <td>5.743725</td>\n",
              "      <td>50775.216696</td>\n",
              "    </tr>\n",
              "    <tr>\n",
              "      <th>std</th>\n",
              "      <td>8.581847e+04</td>\n",
              "      <td>122.991832</td>\n",
              "      <td>230.567709</td>\n",
              "      <td>40205.234483</td>\n",
              "      <td>3.711345</td>\n",
              "      <td>25743.701933</td>\n",
              "    </tr>\n",
              "    <tr>\n",
              "      <th>min</th>\n",
              "      <td>0.000000e+00</td>\n",
              "      <td>1000.000000</td>\n",
              "      <td>0.000000</td>\n",
              "      <td>5000.000000</td>\n",
              "      <td>0.000000</td>\n",
              "      <td>1067.000000</td>\n",
              "    </tr>\n",
              "    <tr>\n",
              "      <th>25%</th>\n",
              "      <td>1.150000e+03</td>\n",
              "      <td>1999.000000</td>\n",
              "      <td>69.000000</td>\n",
              "      <td>125000.000000</td>\n",
              "      <td>3.000000</td>\n",
              "      <td>30559.000000</td>\n",
              "    </tr>\n",
              "    <tr>\n",
              "      <th>50%</th>\n",
              "      <td>2.950000e+03</td>\n",
              "      <td>2003.000000</td>\n",
              "      <td>105.000000</td>\n",
              "      <td>150000.000000</td>\n",
              "      <td>6.000000</td>\n",
              "      <td>49504.000000</td>\n",
              "    </tr>\n",
              "    <tr>\n",
              "      <th>75%</th>\n",
              "      <td>7.190000e+03</td>\n",
              "      <td>2008.000000</td>\n",
              "      <td>150.000000</td>\n",
              "      <td>150000.000000</td>\n",
              "      <td>9.000000</td>\n",
              "      <td>71404.000000</td>\n",
              "    </tr>\n",
              "    <tr>\n",
              "      <th>max</th>\n",
              "      <td>1.234568e+07</td>\n",
              "      <td>9999.000000</td>\n",
              "      <td>19312.000000</td>\n",
              "      <td>150000.000000</td>\n",
              "      <td>12.000000</td>\n",
              "      <td>99998.000000</td>\n",
              "    </tr>\n",
              "  </tbody>\n",
              "</table>\n",
              "</div>"
            ],
            "text/plain": [
              "              price  yearOfRegistration  ...  monthOfRegistration    postalCode\n",
              "count  5.000100e+04        50001.000000  ...         50001.000000  50001.000000\n",
              "mean   6.559865e+03         2005.544229  ...             5.743725  50775.216696\n",
              "std    8.581847e+04          122.991832  ...             3.711345  25743.701933\n",
              "min    0.000000e+00         1000.000000  ...             0.000000   1067.000000\n",
              "25%    1.150000e+03         1999.000000  ...             3.000000  30559.000000\n",
              "50%    2.950000e+03         2003.000000  ...             6.000000  49504.000000\n",
              "75%    7.190000e+03         2008.000000  ...             9.000000  71404.000000\n",
              "max    1.234568e+07         9999.000000  ...            12.000000  99998.000000\n",
              "\n",
              "[8 rows x 6 columns]"
            ]
          },
          "metadata": {
            "tags": []
          },
          "execution_count": 14
        }
      ]
    },
    {
      "cell_type": "markdown",
      "metadata": {
        "id": "gtMr3IKXgVyL",
        "colab_type": "text"
      },
      "source": [
        "#### How to get rid of the scientific notation?"
      ]
    },
    {
      "cell_type": "code",
      "metadata": {
        "id": "Qu5vy8CFglsG",
        "colab_type": "code",
        "colab": {}
      },
      "source": [
        "pd.set_option('display.float_format', lambda x: '%.3f' % x) # Lambda function"
      ],
      "execution_count": 0,
      "outputs": []
    },
    {
      "cell_type": "code",
      "metadata": {
        "id": "QaOg9EvHg4-D",
        "colab_type": "code",
        "colab": {
          "base_uri": "https://localhost:8080/",
          "height": 297
        },
        "outputId": "904825ba-4220-4464-9045-baa1288d579c"
      },
      "source": [
        "cars.describe()"
      ],
      "execution_count": 17,
      "outputs": [
        {
          "output_type": "execute_result",
          "data": {
            "text/html": [
              "<div>\n",
              "<style scoped>\n",
              "    .dataframe tbody tr th:only-of-type {\n",
              "        vertical-align: middle;\n",
              "    }\n",
              "\n",
              "    .dataframe tbody tr th {\n",
              "        vertical-align: top;\n",
              "    }\n",
              "\n",
              "    .dataframe thead th {\n",
              "        text-align: right;\n",
              "    }\n",
              "</style>\n",
              "<table border=\"1\" class=\"dataframe\">\n",
              "  <thead>\n",
              "    <tr style=\"text-align: right;\">\n",
              "      <th></th>\n",
              "      <th>price</th>\n",
              "      <th>yearOfRegistration</th>\n",
              "      <th>powerPS</th>\n",
              "      <th>kilometer</th>\n",
              "      <th>monthOfRegistration</th>\n",
              "      <th>postalCode</th>\n",
              "    </tr>\n",
              "  </thead>\n",
              "  <tbody>\n",
              "    <tr>\n",
              "      <th>count</th>\n",
              "      <td>50001.000</td>\n",
              "      <td>50001.000</td>\n",
              "      <td>50001.000</td>\n",
              "      <td>50001.000</td>\n",
              "      <td>50001.000</td>\n",
              "      <td>50001.000</td>\n",
              "    </tr>\n",
              "    <tr>\n",
              "      <th>mean</th>\n",
              "      <td>6559.865</td>\n",
              "      <td>2005.544</td>\n",
              "      <td>116.496</td>\n",
              "      <td>125613.688</td>\n",
              "      <td>5.744</td>\n",
              "      <td>50775.217</td>\n",
              "    </tr>\n",
              "    <tr>\n",
              "      <th>std</th>\n",
              "      <td>85818.470</td>\n",
              "      <td>122.992</td>\n",
              "      <td>230.568</td>\n",
              "      <td>40205.234</td>\n",
              "      <td>3.711</td>\n",
              "      <td>25743.702</td>\n",
              "    </tr>\n",
              "    <tr>\n",
              "      <th>min</th>\n",
              "      <td>0.000</td>\n",
              "      <td>1000.000</td>\n",
              "      <td>0.000</td>\n",
              "      <td>5000.000</td>\n",
              "      <td>0.000</td>\n",
              "      <td>1067.000</td>\n",
              "    </tr>\n",
              "    <tr>\n",
              "      <th>25%</th>\n",
              "      <td>1150.000</td>\n",
              "      <td>1999.000</td>\n",
              "      <td>69.000</td>\n",
              "      <td>125000.000</td>\n",
              "      <td>3.000</td>\n",
              "      <td>30559.000</td>\n",
              "    </tr>\n",
              "    <tr>\n",
              "      <th>50%</th>\n",
              "      <td>2950.000</td>\n",
              "      <td>2003.000</td>\n",
              "      <td>105.000</td>\n",
              "      <td>150000.000</td>\n",
              "      <td>6.000</td>\n",
              "      <td>49504.000</td>\n",
              "    </tr>\n",
              "    <tr>\n",
              "      <th>75%</th>\n",
              "      <td>7190.000</td>\n",
              "      <td>2008.000</td>\n",
              "      <td>150.000</td>\n",
              "      <td>150000.000</td>\n",
              "      <td>9.000</td>\n",
              "      <td>71404.000</td>\n",
              "    </tr>\n",
              "    <tr>\n",
              "      <th>max</th>\n",
              "      <td>12345678.000</td>\n",
              "      <td>9999.000</td>\n",
              "      <td>19312.000</td>\n",
              "      <td>150000.000</td>\n",
              "      <td>12.000</td>\n",
              "      <td>99998.000</td>\n",
              "    </tr>\n",
              "  </tbody>\n",
              "</table>\n",
              "</div>"
            ],
            "text/plain": [
              "             price  yearOfRegistration  ...  monthOfRegistration  postalCode\n",
              "count    50001.000           50001.000  ...            50001.000   50001.000\n",
              "mean      6559.865            2005.544  ...                5.744   50775.217\n",
              "std      85818.470             122.992  ...                3.711   25743.702\n",
              "min          0.000            1000.000  ...                0.000    1067.000\n",
              "25%       1150.000            1999.000  ...                3.000   30559.000\n",
              "50%       2950.000            2003.000  ...                6.000   49504.000\n",
              "75%       7190.000            2008.000  ...                9.000   71404.000\n",
              "max   12345678.000            9999.000  ...               12.000   99998.000\n",
              "\n",
              "[8 rows x 6 columns]"
            ]
          },
          "metadata": {
            "tags": []
          },
          "execution_count": 17
        }
      ]
    },
    {
      "cell_type": "markdown",
      "metadata": {
        "id": "jxuar7xgg-kD",
        "colab_type": "text"
      },
      "source": [
        "#### Not all the columns are visible so??"
      ]
    },
    {
      "cell_type": "code",
      "metadata": {
        "id": "ogih3X5PhPZ-",
        "colab_type": "code",
        "colab": {
          "base_uri": "https://localhost:8080/",
          "height": 297
        },
        "outputId": "ffd2a4b4-129c-40d3-bcce-1bfb99ec6433"
      },
      "source": [
        "# To display maximum set of columns\n",
        "pd.set_option('display.max_columns', 500)\n",
        "cars.describe()"
      ],
      "execution_count": 20,
      "outputs": [
        {
          "output_type": "execute_result",
          "data": {
            "text/html": [
              "<div>\n",
              "<style scoped>\n",
              "    .dataframe tbody tr th:only-of-type {\n",
              "        vertical-align: middle;\n",
              "    }\n",
              "\n",
              "    .dataframe tbody tr th {\n",
              "        vertical-align: top;\n",
              "    }\n",
              "\n",
              "    .dataframe thead th {\n",
              "        text-align: right;\n",
              "    }\n",
              "</style>\n",
              "<table border=\"1\" class=\"dataframe\">\n",
              "  <thead>\n",
              "    <tr style=\"text-align: right;\">\n",
              "      <th></th>\n",
              "      <th>price</th>\n",
              "      <th>yearOfRegistration</th>\n",
              "      <th>powerPS</th>\n",
              "      <th>kilometer</th>\n",
              "      <th>monthOfRegistration</th>\n",
              "      <th>postalCode</th>\n",
              "    </tr>\n",
              "  </thead>\n",
              "  <tbody>\n",
              "    <tr>\n",
              "      <th>count</th>\n",
              "      <td>50001.000</td>\n",
              "      <td>50001.000</td>\n",
              "      <td>50001.000</td>\n",
              "      <td>50001.000</td>\n",
              "      <td>50001.000</td>\n",
              "      <td>50001.000</td>\n",
              "    </tr>\n",
              "    <tr>\n",
              "      <th>mean</th>\n",
              "      <td>6559.865</td>\n",
              "      <td>2005.544</td>\n",
              "      <td>116.496</td>\n",
              "      <td>125613.688</td>\n",
              "      <td>5.744</td>\n",
              "      <td>50775.217</td>\n",
              "    </tr>\n",
              "    <tr>\n",
              "      <th>std</th>\n",
              "      <td>85818.470</td>\n",
              "      <td>122.992</td>\n",
              "      <td>230.568</td>\n",
              "      <td>40205.234</td>\n",
              "      <td>3.711</td>\n",
              "      <td>25743.702</td>\n",
              "    </tr>\n",
              "    <tr>\n",
              "      <th>min</th>\n",
              "      <td>0.000</td>\n",
              "      <td>1000.000</td>\n",
              "      <td>0.000</td>\n",
              "      <td>5000.000</td>\n",
              "      <td>0.000</td>\n",
              "      <td>1067.000</td>\n",
              "    </tr>\n",
              "    <tr>\n",
              "      <th>25%</th>\n",
              "      <td>1150.000</td>\n",
              "      <td>1999.000</td>\n",
              "      <td>69.000</td>\n",
              "      <td>125000.000</td>\n",
              "      <td>3.000</td>\n",
              "      <td>30559.000</td>\n",
              "    </tr>\n",
              "    <tr>\n",
              "      <th>50%</th>\n",
              "      <td>2950.000</td>\n",
              "      <td>2003.000</td>\n",
              "      <td>105.000</td>\n",
              "      <td>150000.000</td>\n",
              "      <td>6.000</td>\n",
              "      <td>49504.000</td>\n",
              "    </tr>\n",
              "    <tr>\n",
              "      <th>75%</th>\n",
              "      <td>7190.000</td>\n",
              "      <td>2008.000</td>\n",
              "      <td>150.000</td>\n",
              "      <td>150000.000</td>\n",
              "      <td>9.000</td>\n",
              "      <td>71404.000</td>\n",
              "    </tr>\n",
              "    <tr>\n",
              "      <th>max</th>\n",
              "      <td>12345678.000</td>\n",
              "      <td>9999.000</td>\n",
              "      <td>19312.000</td>\n",
              "      <td>150000.000</td>\n",
              "      <td>12.000</td>\n",
              "      <td>99998.000</td>\n",
              "    </tr>\n",
              "  </tbody>\n",
              "</table>\n",
              "</div>"
            ],
            "text/plain": [
              "             price  yearOfRegistration   powerPS  kilometer  \\\n",
              "count    50001.000           50001.000 50001.000  50001.000   \n",
              "mean      6559.865            2005.544   116.496 125613.688   \n",
              "std      85818.470             122.992   230.568  40205.234   \n",
              "min          0.000            1000.000     0.000   5000.000   \n",
              "25%       1150.000            1999.000    69.000 125000.000   \n",
              "50%       2950.000            2003.000   105.000 150000.000   \n",
              "75%       7190.000            2008.000   150.000 150000.000   \n",
              "max   12345678.000            9999.000 19312.000 150000.000   \n",
              "\n",
              "       monthOfRegistration  postalCode  \n",
              "count            50001.000   50001.000  \n",
              "mean                 5.744   50775.217  \n",
              "std                  3.711   25743.702  \n",
              "min                  0.000    1067.000  \n",
              "25%                  3.000   30559.000  \n",
              "50%                  6.000   49504.000  \n",
              "75%                  9.000   71404.000  \n",
              "max                 12.000   99998.000  "
            ]
          },
          "metadata": {
            "tags": []
          },
          "execution_count": 20
        }
      ]
    },
    {
      "cell_type": "code",
      "metadata": {
        "id": "SKv-FvbfigxD",
        "colab_type": "code",
        "colab": {
          "base_uri": "https://localhost:8080/",
          "height": 425
        },
        "outputId": "0b2c0fcd-f87f-44a3-eb4d-c6073ed1df24"
      },
      "source": [
        "cars.info()"
      ],
      "execution_count": 22,
      "outputs": [
        {
          "output_type": "stream",
          "text": [
            "<class 'pandas.core.frame.DataFrame'>\n",
            "RangeIndex: 50001 entries, 0 to 50000\n",
            "Data columns (total 19 columns):\n",
            "dateCrawled            50001 non-null object\n",
            "name                   50001 non-null object\n",
            "seller                 50001 non-null object\n",
            "offerType              50001 non-null object\n",
            "price                  50001 non-null int64\n",
            "abtest                 50001 non-null object\n",
            "vehicleType            44813 non-null object\n",
            "yearOfRegistration     50001 non-null int64\n",
            "gearbox                47177 non-null object\n",
            "powerPS                50001 non-null int64\n",
            "model                  47243 non-null object\n",
            "kilometer              50001 non-null int64\n",
            "monthOfRegistration    50001 non-null int64\n",
            "fuelType               45498 non-null object\n",
            "brand                  50001 non-null object\n",
            "notRepairedDamage      40285 non-null object\n",
            "dateCreated            50001 non-null object\n",
            "postalCode             50001 non-null int64\n",
            "lastSeen               50001 non-null object\n",
            "dtypes: int64(6), object(13)\n",
            "memory usage: 7.2+ MB\n"
          ],
          "name": "stdout"
        }
      ]
    },
    {
      "cell_type": "markdown",
      "metadata": {
        "id": "S5K8YKP1h32m",
        "colab_type": "text"
      },
      "source": [
        "#### Lets **DROP** Unwanted Columns"
      ]
    },
    {
      "cell_type": "code",
      "metadata": {
        "id": "JcVvoZNCiWKj",
        "colab_type": "code",
        "colab": {}
      },
      "source": [
        "# We are going to drop all these columns present in the list \"col\"\n",
        "col = ['name','dateCrawled','dateCreated','postalCode','lastSeen']\n",
        "cars = cars.drop(columns=col, axis=1)"
      ],
      "execution_count": 0,
      "outputs": []
    },
    {
      "cell_type": "code",
      "metadata": {
        "id": "gTkdmHx_jGAk",
        "colab_type": "code",
        "colab": {
          "base_uri": "https://localhost:8080/",
          "height": 340
        },
        "outputId": "b7b455c8-8154-4c9d-ef50-db3bd0a4f838"
      },
      "source": [
        "cars.info()"
      ],
      "execution_count": 25,
      "outputs": [
        {
          "output_type": "stream",
          "text": [
            "<class 'pandas.core.frame.DataFrame'>\n",
            "RangeIndex: 50001 entries, 0 to 50000\n",
            "Data columns (total 14 columns):\n",
            "seller                 50001 non-null object\n",
            "offerType              50001 non-null object\n",
            "price                  50001 non-null int64\n",
            "abtest                 50001 non-null object\n",
            "vehicleType            44813 non-null object\n",
            "yearOfRegistration     50001 non-null int64\n",
            "gearbox                47177 non-null object\n",
            "powerPS                50001 non-null int64\n",
            "model                  47243 non-null object\n",
            "kilometer              50001 non-null int64\n",
            "monthOfRegistration    50001 non-null int64\n",
            "fuelType               45498 non-null object\n",
            "brand                  50001 non-null object\n",
            "notRepairedDamage      40285 non-null object\n",
            "dtypes: int64(5), object(9)\n",
            "memory usage: 5.3+ MB\n"
          ],
          "name": "stdout"
        }
      ]
    },
    {
      "cell_type": "markdown",
      "metadata": {
        "id": "yi2Fxve0jc3Z",
        "colab_type": "text"
      },
      "source": [
        "# Lets remove the duplicate records and keeping the first record and deleting the rest of duplicate records of it"
      ]
    },
    {
      "cell_type": "code",
      "metadata": {
        "id": "jiP4DO0Yk_xQ",
        "colab_type": "code",
        "colab": {}
      },
      "source": [
        "cars.drop_duplicates(keep='first',inplace=True)"
      ],
      "execution_count": 0,
      "outputs": []
    },
    {
      "cell_type": "code",
      "metadata": {
        "id": "Y1vK6PoTnK0K",
        "colab_type": "code",
        "colab": {
          "base_uri": "https://localhost:8080/",
          "height": 340
        },
        "outputId": "81af3a49-8dd5-4e80-9409-1c364f23ea44"
      },
      "source": [
        "cars.info()"
      ],
      "execution_count": 27,
      "outputs": [
        {
          "output_type": "stream",
          "text": [
            "<class 'pandas.core.frame.DataFrame'>\n",
            "Int64Index: 49531 entries, 0 to 50000\n",
            "Data columns (total 14 columns):\n",
            "seller                 49531 non-null object\n",
            "offerType              49531 non-null object\n",
            "price                  49531 non-null int64\n",
            "abtest                 49531 non-null object\n",
            "vehicleType            44379 non-null object\n",
            "yearOfRegistration     49531 non-null int64\n",
            "gearbox                46766 non-null object\n",
            "powerPS                49531 non-null int64\n",
            "model                  46801 non-null object\n",
            "kilometer              49531 non-null int64\n",
            "monthOfRegistration    49531 non-null int64\n",
            "fuelType               45064 non-null object\n",
            "brand                  49531 non-null object\n",
            "notRepairedDamage      39891 non-null object\n",
            "dtypes: int64(5), object(9)\n",
            "memory usage: 5.7+ MB\n"
          ],
          "name": "stdout"
        }
      ]
    },
    {
      "cell_type": "markdown",
      "metadata": {
        "id": "CNrOl_ZnnM4t",
        "colab_type": "text"
      },
      "source": [
        "# **Data Cleaning**"
      ]
    },
    {
      "cell_type": "code",
      "metadata": {
        "id": "CDBq5M2inZKe",
        "colab_type": "code",
        "colab": {
          "base_uri": "https://localhost:8080/",
          "height": 272
        },
        "outputId": "96a053dd-d008-494c-f558-a76d9b31b890"
      },
      "source": [
        "# Lets compute the number of missing values in each columns\n",
        "cars.isnull().sum()"
      ],
      "execution_count": 28,
      "outputs": [
        {
          "output_type": "execute_result",
          "data": {
            "text/plain": [
              "seller                    0\n",
              "offerType                 0\n",
              "price                     0\n",
              "abtest                    0\n",
              "vehicleType            5152\n",
              "yearOfRegistration        0\n",
              "gearbox                2765\n",
              "powerPS                   0\n",
              "model                  2730\n",
              "kilometer                 0\n",
              "monthOfRegistration       0\n",
              "fuelType               4467\n",
              "brand                     0\n",
              "notRepairedDamage      9640\n",
              "dtype: int64"
            ]
          },
          "metadata": {
            "tags": []
          },
          "execution_count": 28
        }
      ]
    },
    {
      "cell_type": "markdown",
      "metadata": {
        "id": "s-3KQOYQnh6u",
        "colab_type": "text"
      },
      "source": [
        "#### The numbers we see other than zeroes are the number of missing datas"
      ]
    },
    {
      "cell_type": "markdown",
      "metadata": {
        "id": "F4OZ4KAFoZjn",
        "colab_type": "text"
      },
      "source": [
        "### Lets take **Variable** :- **yearOfRegistration** first\n",
        "#### Sorting that based on the years"
      ]
    },
    {
      "cell_type": "code",
      "metadata": {
        "id": "itMRWAYgonuC",
        "colab_type": "code",
        "colab": {}
      },
      "source": [
        "yearwise_count=cars['yearOfRegistration'].value_counts().sort_index()"
      ],
      "execution_count": 0,
      "outputs": []
    },
    {
      "cell_type": "code",
      "metadata": {
        "id": "zfvuUUYcpvPv",
        "colab_type": "code",
        "colab": {
          "base_uri": "https://localhost:8080/",
          "height": 221
        },
        "outputId": "a5dbd498-d495-4435-d082-cdd96e2a69ea"
      },
      "source": [
        "yearwise_count"
      ],
      "execution_count": 36,
      "outputs": [
        {
          "output_type": "execute_result",
          "data": {
            "text/plain": [
              "1000     6\n",
              "1255     1\n",
              "1500     2\n",
              "1910    14\n",
              "1928     1\n",
              "        ..\n",
              "7500     1\n",
              "7800     1\n",
              "8500     1\n",
              "8888     2\n",
              "9999     7\n",
              "Name: yearOfRegistration, Length: 97, dtype: int64"
            ]
          },
          "metadata": {
            "tags": []
          },
          "execution_count": 36
        }
      ]
    },
    {
      "cell_type": "markdown",
      "metadata": {
        "id": "JA8WGTwspx2P",
        "colab_type": "text"
      },
      "source": [
        "#### We can see that the yearwisecount is also having datas from future which is no use so lets clean that out"
      ]
    },
    {
      "cell_type": "code",
      "metadata": {
        "id": "kQJ1imU_p99_",
        "colab_type": "code",
        "colab": {
          "base_uri": "https://localhost:8080/",
          "height": 545
        },
        "outputId": "3603eaa8-dd3e-4f88-9457-9b0736d83bc2"
      },
      "source": [
        "sum(cars['yearOfRegistration'] > 2018)\n",
        "sum(cars['yearOfRegistration'] < 1950)\n",
        "sns.regplot(x='yearOfRegistration', y='price', scatter=True, fit_reg=False, data=cars)"
      ],
      "execution_count": 37,
      "outputs": [
        {
          "output_type": "execute_result",
          "data": {
            "text/plain": [
              "<matplotlib.axes._subplots.AxesSubplot at 0x7fb2c0bd2438>"
            ]
          },
          "metadata": {
            "tags": []
          },
          "execution_count": 37
        },
        {
          "output_type": "display_data",
          "data": {
            "image/png": "[encoded data removed]",
            "text/plain": [
              "<Figure size 842.4x595.44 with 1 Axes>"
            ]
          },
          "metadata": {
            "tags": []
          }
        }
      ]
    },
    {
      "cell_type": "markdown",
      "metadata": {
        "id": "qqrcY0XLq47v",
        "colab_type": "text"
      },
      "source": [
        "##### We can see that we cannot find any insight from this plot\n",
        "##### Working range-1950 and 2018"
      ]
    },
    {
      "cell_type": "markdown",
      "metadata": {
        "id": "j4voG-xqrGoj",
        "colab_type": "text"
      },
      "source": [
        "# **Variable**:- price"
      ]
    },
    {
      "cell_type": "code",
      "metadata": {
        "id": "fcvy9QgWrgI1",
        "colab_type": "code",
        "colab": {}
      },
      "source": [
        "Time Stamp:-15:11"
      ],
      "execution_count": 0,
      "outputs": []
    }
  ]
}